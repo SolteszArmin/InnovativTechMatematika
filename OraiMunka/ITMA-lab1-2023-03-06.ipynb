{
 "cells": [
  {
   "cell_type": "markdown",
   "metadata": {
    "id": "tCkaUEQ73jzX"
   },
   "source": [
    "Házi feladat:\n",
    "*   1. házi feladat: 2023.03.20. $\\quad$ Határideje: 2023.04.03. 9:50 A.M.\n",
    "*   2. házi feladat: 2023.04.17.  $\\quad$  Határideje: 2023.05.01. 9:50 A.M.\n",
    "*   3. házi feladat: 2023.05.01. $\\quad$  Határideje: 2023.05.15. 9:50 A.M.\n",
    "*   Maximum 2 pont/feladat, 1 - ha félig jó, 0 - ha nincs beadva vagy értékelhetetlen\n",
    "*   Minimum 3 pont kell az aláíráshoz\n",
    "*   Vizsgába is beleszámít (részletek az előadáson) $\\rightarrow$  érdemes megcsinálni mindhármat :) \n",
    "*   Ha kell hozzá olyan függvény, amit a gyakorlaton nem említünk meg, akkor jelezni fogom\n",
    "*   Két gyakorlat ünnepnapra esik ezek módosított időpontban kerülnek megtartásra:\n",
    "*   2023.05.01 helyett $\\rightarrow$ 2023.04.24.\n",
    "*   2023.05.29 helyett $\\rightarrow$ 2023.05.22. (Vizsga felkészítés)\n",
    "\n",
    "\n",
    "\n",
    "\n"
   ]
  },
  {
   "cell_type": "code",
   "execution_count": null,
   "metadata": {
    "id": "rD7bIp9aODNW"
   },
   "outputs": [],
   "source": []
  },
  {
   "cell_type": "markdown",
   "metadata": {
    "id": "1OhfUZCx5o7i"
   },
   "source": [
    "# Alapvető adattípusok"
   ]
  },
  {
   "cell_type": "markdown",
   "metadata": {
    "id": "MEWkQbId7Zal"
   },
   "source": [
    "## String"
   ]
  },
  {
   "cell_type": "code",
   "execution_count": null,
   "metadata": {
    "colab": {
     "base_uri": "https://localhost:8080/",
     "height": 35
    },
    "executionInfo": {
     "elapsed": 353,
     "status": "ok",
     "timestamp": 1663833956149,
     "user": {
      "displayName": "Luca Pusztaházi",
      "userId": "06295912630045743658"
     },
     "user_tz": -120
    },
    "id": "nWTlYwM33ZNS",
    "outputId": "e897fa14-c238-4ab6-be59-ecbe4240f7ad"
   },
   "outputs": [],
   "source": [
    "'Hello World!'"
   ]
  },
  {
   "cell_type": "code",
   "execution_count": null,
   "metadata": {
    "colab": {
     "base_uri": "https://localhost:8080/"
    },
    "executionInfo": {
     "elapsed": 642,
     "status": "ok",
     "timestamp": 1663833983477,
     "user": {
      "displayName": "Luca Pusztaházi",
      "userId": "06295912630045743658"
     },
     "user_tz": -120
    },
    "id": "vhEflWNu694p",
    "outputId": "7f6517bf-8dfe-4be3-99d2-ca0592274703"
   },
   "outputs": [],
   "source": [
    "msg = 'Hello World!'\n",
    "print(msg)"
   ]
  },
  {
   "cell_type": "code",
   "execution_count": null,
   "metadata": {
    "colab": {
     "base_uri": "https://localhost:8080/"
    },
    "executionInfo": {
     "elapsed": 383,
     "status": "ok",
     "timestamp": 1663833989085,
     "user": {
      "displayName": "Luca Pusztaházi",
      "userId": "06295912630045743658"
     },
     "user_tz": -120
    },
    "id": "1frA_x5c7nZk",
    "outputId": "2fa1ab17-a569-44b4-f66c-79f23985dc73"
   },
   "outputs": [],
   "source": [
    "type(msg)"
   ]
  },
  {
   "cell_type": "code",
   "execution_count": null,
   "metadata": {
    "colab": {
     "base_uri": "https://localhost:8080/"
    },
    "executionInfo": {
     "elapsed": 10,
     "status": "ok",
     "timestamp": 1663834101801,
     "user": {
      "displayName": "Luca Pusztaházi",
      "userId": "06295912630045743658"
     },
     "user_tz": -120
    },
    "id": "FGdclUiP7sGD",
    "outputId": "34f8619e-debf-4ad4-844f-ae7bc759e8ea"
   },
   "outputs": [],
   "source": [
    "a = 1\n",
    "if a==1:\n",
    "    print(msg)"
   ]
  },
  {
   "cell_type": "code",
   "execution_count": null,
   "metadata": {
    "colab": {
     "base_uri": "https://localhost:8080/",
     "height": 35
    },
    "executionInfo": {
     "elapsed": 629,
     "status": "ok",
     "timestamp": 1663834170998,
     "user": {
      "displayName": "Luca Pusztaházi",
      "userId": "06295912630045743658"
     },
     "user_tz": -120
    },
    "id": "8F55T27a7uGX",
    "outputId": "d2e3999f-55c9-42ee-9189-8cc0e4d0da07"
   },
   "outputs": [],
   "source": [
    "msg[0:5] # exclusive, 5 is not in"
   ]
  },
  {
   "cell_type": "code",
   "execution_count": null,
   "metadata": {
    "colab": {
     "base_uri": "https://localhost:8080/"
    },
    "executionInfo": {
     "elapsed": 543,
     "status": "ok",
     "timestamp": 1663834210921,
     "user": {
      "displayName": "Luca Pusztaházi",
      "userId": "06295912630045743658"
     },
     "user_tz": -120
    },
    "id": "GqL7d_ad71Ng",
    "outputId": "6a3d437c-e0e6-48a3-d26e-4c71046de06a"
   },
   "outputs": [],
   "source": [
    "print(msg.upper())\n",
    "print(msg.lower())\n",
    "print(msg.split())\n",
    "print(msg.split('o'))\n",
    "print(msg.find('or'))\n",
    "print(msg.find('Not in the string'))"
   ]
  },
  {
   "cell_type": "markdown",
   "metadata": {
    "id": "jho5PGTl8WQH"
   },
   "source": [
    "## Integer"
   ]
  },
  {
   "cell_type": "code",
   "execution_count": null,
   "metadata": {
    "id": "FsHtLQDH76Dv"
   },
   "outputs": [],
   "source": [
    "x = 42\n",
    "y = 2"
   ]
  },
  {
   "cell_type": "code",
   "execution_count": null,
   "metadata": {
    "colab": {
     "base_uri": "https://localhost:8080/"
    },
    "executionInfo": {
     "elapsed": 394,
     "status": "ok",
     "timestamp": 1663834326575,
     "user": {
      "displayName": "Luca Pusztaházi",
      "userId": "06295912630045743658"
     },
     "user_tz": -120
    },
    "id": "2xRyeUqm8iNA",
    "outputId": "4f8c4915-aa93-45e1-82cd-30579b4be4f1"
   },
   "outputs": [],
   "source": [
    "print(x + y)\n",
    "print(x - y)\n",
    "print(x * y)\n",
    "print(x / y)\n",
    "print(x // y)\n",
    "print(x % y)\n",
    "print(-x)\n",
    "print(+x)"
   ]
  },
  {
   "cell_type": "code",
   "execution_count": null,
   "metadata": {
    "colab": {
     "base_uri": "https://localhost:8080/"
    },
    "executionInfo": {
     "elapsed": 426,
     "status": "ok",
     "timestamp": 1663834390130,
     "user": {
      "displayName": "Luca Pusztaházi",
      "userId": "06295912630045743658"
     },
     "user_tz": -120
    },
    "id": "Sk7GeaMV8toi",
    "outputId": "047eadfd-5351-4ecf-f741-fceaedd92349"
   },
   "outputs": [],
   "source": [
    "print(abs(-42))\n",
    "print(int(-42.0))\n",
    "print(float(-42))"
   ]
  },
  {
   "cell_type": "code",
   "execution_count": null,
   "metadata": {
    "colab": {
     "base_uri": "https://localhost:8080/"
    },
    "executionInfo": {
     "elapsed": 346,
     "status": "ok",
     "timestamp": 1663834397978,
     "user": {
      "displayName": "Luca Pusztaházi",
      "userId": "06295912630045743658"
     },
     "user_tz": -120
    },
    "id": "hp5j0slB8-sX",
    "outputId": "eed605f0-4521-4d46-df38-900716089081"
   },
   "outputs": [],
   "source": [
    "c = complex(-1,3.14)\n",
    "c"
   ]
  },
  {
   "cell_type": "code",
   "execution_count": null,
   "metadata": {
    "colab": {
     "base_uri": "https://localhost:8080/"
    },
    "executionInfo": {
     "elapsed": 368,
     "status": "ok",
     "timestamp": 1663834404619,
     "user": {
      "displayName": "Luca Pusztaházi",
      "userId": "06295912630045743658"
     },
     "user_tz": -120
    },
    "id": "x0K42lvQ9COv",
    "outputId": "a37004f0-901e-43fa-9ca1-5a9b8f723ddc"
   },
   "outputs": [],
   "source": [
    "divmod(7,3)"
   ]
  },
  {
   "cell_type": "code",
   "execution_count": null,
   "metadata": {
    "colab": {
     "base_uri": "https://localhost:8080/"
    },
    "executionInfo": {
     "elapsed": 725,
     "status": "ok",
     "timestamp": 1663834423743,
     "user": {
      "displayName": "Luca Pusztaházi",
      "userId": "06295912630045743658"
     },
     "user_tz": -120
    },
    "id": "rH9Y-Xzj9Ha5",
    "outputId": "027201e7-53fa-4b59-d459-818ed98d37e6"
   },
   "outputs": [],
   "source": [
    "pow(7,3) == 7**3"
   ]
  },
  {
   "cell_type": "markdown",
   "metadata": {
    "id": "2jTHCY3c9Mqc"
   },
   "source": [
    "## Boolean"
   ]
  },
  {
   "cell_type": "code",
   "execution_count": null,
   "metadata": {
    "colab": {
     "base_uri": "https://localhost:8080/"
    },
    "executionInfo": {
     "elapsed": 449,
     "status": "ok",
     "timestamp": 1663834446664,
     "user": {
      "displayName": "Luca Pusztaházi",
      "userId": "06295912630045743658"
     },
     "user_tz": -120
    },
    "id": "OnJyJXc19RNE",
    "outputId": "0587f583-4a0e-460e-ed69-66cdb76ce4f1"
   },
   "outputs": [],
   "source": [
    "t = True\n",
    "u = False\n",
    "type(t) == int"
   ]
  },
  {
   "cell_type": "code",
   "execution_count": null,
   "metadata": {
    "colab": {
     "base_uri": "https://localhost:8080/"
    },
    "executionInfo": {
     "elapsed": 369,
     "status": "ok",
     "timestamp": 1663834463352,
     "user": {
      "displayName": "Luca Pusztaházi",
      "userId": "06295912630045743658"
     },
     "user_tz": -120
    },
    "id": "t7ESRsba9avR",
    "outputId": "901a0bcc-5c46-4f64-ae99-5623c7eae4be"
   },
   "outputs": [],
   "source": [
    "print(1 != 1)\n",
    "print(1 > 4)\n",
    "print('a' < 'b')\n",
    "print('abcd' <= 'defg')\n",
    "print('abcd' >= 'defg')"
   ]
  },
  {
   "cell_type": "code",
   "execution_count": null,
   "metadata": {
    "colab": {
     "base_uri": "https://localhost:8080/"
    },
    "executionInfo": {
     "elapsed": 535,
     "status": "ok",
     "timestamp": 1663834494647,
     "user": {
      "displayName": "Luca Pusztaházi",
      "userId": "06295912630045743658"
     },
     "user_tz": -120
    },
    "id": "Vn1ZeUS99kii",
    "outputId": "6a8020e7-0661-4cb9-811e-456018ded74c"
   },
   "outputs": [],
   "source": [
    "print([0,1,2] < [1,2,4])\n",
    "print([0,1,2] < [1,20000000])\n",
    "print([0,1,2] < [-1,10000,20000])"
   ]
  },
  {
   "cell_type": "code",
   "execution_count": null,
   "metadata": {
    "colab": {
     "base_uri": "https://localhost:8080/"
    },
    "executionInfo": {
     "elapsed": 377,
     "status": "ok",
     "timestamp": 1663834519513,
     "user": {
      "displayName": "Luca Pusztaházi",
      "userId": "06295912630045743658"
     },
     "user_tz": -120
    },
    "id": "E0ZjaNaE9t9Z",
    "outputId": "d74f11a4-b98a-4d55-e261-9930c9fd2734"
   },
   "outputs": [],
   "source": [
    "print(not False)\n",
    "print(True or False)\n",
    "print(True and False)\n",
    "print(False or False or True)"
   ]
  },
  {
   "cell_type": "code",
   "execution_count": null,
   "metadata": {
    "colab": {
     "base_uri": "https://localhost:8080/"
    },
    "executionInfo": {
     "elapsed": 344,
     "status": "ok",
     "timestamp": 1663834539834,
     "user": {
      "displayName": "Luca Pusztaházi",
      "userId": "06295912630045743658"
     },
     "user_tz": -120
    },
    "id": "2u4bbEzZ-AEg",
    "outputId": "7015cd89-ad66-4117-af13-508d7f622ffb"
   },
   "outputs": [],
   "source": [
    "x = 6\n",
    "y = 10\n",
    "z = 20\n",
    "\n",
    "print(x < y <= z)\n",
    "print(x < y and y <= z)\n",
    "print(x < y and y != z)"
   ]
  },
  {
   "cell_type": "code",
   "execution_count": null,
   "metadata": {
    "id": "EG_SdMtm-F-D"
   },
   "outputs": [],
   "source": []
  },
  {
   "cell_type": "markdown",
   "metadata": {
    "id": "c60shzbN-J4A"
   },
   "source": [
    "## Binary (not likely to be used)"
   ]
  },
  {
   "cell_type": "code",
   "execution_count": null,
   "metadata": {
    "colab": {
     "base_uri": "https://localhost:8080/"
    },
    "executionInfo": {
     "elapsed": 349,
     "status": "ok",
     "timestamp": 1663834567252,
     "user": {
      "displayName": "Luca Pusztaházi",
      "userId": "06295912630045743658"
     },
     "user_tz": -120
    },
    "id": "tZsU8pa9-QcO",
    "outputId": "15f12833-31da-4d73-e470-01c1f13ad472"
   },
   "outputs": [],
   "source": [
    "b1 = 23\n",
    "b2 = 27\n",
    "print(bin(b1))\n",
    "print(bin(b2))"
   ]
  },
  {
   "cell_type": "code",
   "execution_count": null,
   "metadata": {
    "colab": {
     "base_uri": "https://localhost:8080/"
    },
    "executionInfo": {
     "elapsed": 338,
     "status": "ok",
     "timestamp": 1663834578376,
     "user": {
      "displayName": "Luca Pusztaházi",
      "userId": "06295912630045743658"
     },
     "user_tz": -120
    },
    "id": "TeBe5Y5x-V9R",
    "outputId": "e879fa26-ee4e-4e8f-8d8f-08e3c8d96055"
   },
   "outputs": [],
   "source": [
    "print(bin(b1 | b2))\n",
    "print(bin(b1 & b2))\n",
    "print(bin(b1 ^ b2))\n",
    "print(bin(b1 << 1))\n",
    "print(bin(b1 >> 1))\n",
    "print(bin(~b1))"
   ]
  },
  {
   "cell_type": "code",
   "execution_count": null,
   "metadata": {
    "id": "ulIaIyuI-hbo"
   },
   "outputs": [],
   "source": [
    "print(int(str(bin(~b1))[3:], 2))"
   ]
  },
  {
   "cell_type": "code",
   "execution_count": null,
   "metadata": {},
   "outputs": [],
   "source": []
  },
  {
   "cell_type": "markdown",
   "metadata": {
    "id": "WCYxB0PP-jXm"
   },
   "source": [
    "## Float"
   ]
  },
  {
   "cell_type": "code",
   "execution_count": null,
   "metadata": {
    "colab": {
     "base_uri": "https://localhost:8080/"
    },
    "executionInfo": {
     "elapsed": 4,
     "status": "ok",
     "timestamp": 1663834645836,
     "user": {
      "displayName": "Luca Pusztaházi",
      "userId": "06295912630045743658"
     },
     "user_tz": -120
    },
    "id": "Kv1EWCFI-kej",
    "outputId": "7b08240a-a967-4997-d075-4f0a259f1e71"
   },
   "outputs": [],
   "source": [
    "f = 3.14\n",
    "f = 1e4\n",
    "g = 1e-4\n",
    "print(f)\n",
    "print(g)"
   ]
  },
  {
   "cell_type": "code",
   "execution_count": null,
   "metadata": {
    "id": "YM2Uq_e2-o0u"
   },
   "outputs": [],
   "source": [
    "k = p = r = 10"
   ]
  },
  {
   "cell_type": "code",
   "execution_count": null,
   "metadata": {
    "colab": {
     "base_uri": "https://localhost:8080/"
    },
    "executionInfo": {
     "elapsed": 351,
     "status": "ok",
     "timestamp": 1663834678986,
     "user": {
      "displayName": "Luca Pusztaházi",
      "userId": "06295912630045743658"
     },
     "user_tz": -120
    },
    "id": "9EDqWV08-udi",
    "outputId": "e4642df8-53c2-4485-b8b6-c323efc361bc"
   },
   "outputs": [],
   "source": [
    "print(k,p,r)"
   ]
  },
  {
   "cell_type": "code",
   "execution_count": null,
   "metadata": {
    "colab": {
     "base_uri": "https://localhost:8080/"
    },
    "executionInfo": {
     "elapsed": 391,
     "status": "ok",
     "timestamp": 1663834709796,
     "user": {
      "displayName": "Luca Pusztaházi",
      "userId": "06295912630045743658"
     },
     "user_tz": -120
    },
    "id": "rKgHUL_o-wd0",
    "outputId": "99135fbf-eca3-4e0f-f506-3e3dd44b8998"
   },
   "outputs": [],
   "source": [
    "print(r**2 / 3)\n",
    "print(r**2.0 / 3)"
   ]
  },
  {
   "cell_type": "code",
   "execution_count": null,
   "metadata": {
    "id": "_1K9TykQ-3iW"
   },
   "outputs": [],
   "source": []
  },
  {
   "cell_type": "markdown",
   "metadata": {
    "id": "0JEaDnAc-9Ys"
   },
   "source": [
    "## List"
   ]
  },
  {
   "cell_type": "code",
   "execution_count": null,
   "metadata": {
    "id": "yOXZEVwY-_Ie"
   },
   "outputs": [],
   "source": [
    "a = [1,2,3,4,5,6,7,8,9]\n",
    "b = [0,2,4,6,8,10]\n",
    "c = ['Gyalog galopp','Brian élete']\n",
    "d = [8,'ora','munka',8,'ora','pihenes'] # different types can be put into the same list"
   ]
  },
  {
   "cell_type": "code",
   "execution_count": null,
   "metadata": {
    "colab": {
     "base_uri": "https://localhost:8080/"
    },
    "executionInfo": {
     "elapsed": 343,
     "status": "ok",
     "timestamp": 1663834863826,
     "user": {
      "displayName": "Luca Pusztaházi",
      "userId": "06295912630045743658"
     },
     "user_tz": -120
    },
    "id": "kW61Okvi2KI5",
    "outputId": "e7ab221b-013c-4d36-a055-ad5d2926f932"
   },
   "outputs": [],
   "source": [
    "d.append(8)\n",
    "d.append('ora')\n",
    "d.append('szorakozas')\n",
    "d"
   ]
  },
  {
   "cell_type": "code",
   "execution_count": null,
   "metadata": {
    "colab": {
     "base_uri": "https://localhost:8080/"
    },
    "executionInfo": {
     "elapsed": 416,
     "status": "ok",
     "timestamp": 1663834875843,
     "user": {
      "displayName": "Luca Pusztaházi",
      "userId": "06295912630045743658"
     },
     "user_tz": -120
    },
    "id": "y4bhpkb92NBx",
    "outputId": "81775ec9-a6f0-4fe5-81ea-0f62e36cbfcb"
   },
   "outputs": [],
   "source": [
    "len(d)"
   ]
  },
  {
   "cell_type": "code",
   "execution_count": null,
   "metadata": {
    "colab": {
     "base_uri": "https://localhost:8080/"
    },
    "executionInfo": {
     "elapsed": 394,
     "status": "ok",
     "timestamp": 1663834959187,
     "user": {
      "displayName": "Luca Pusztaházi",
      "userId": "06295912630045743658"
     },
     "user_tz": -120
    },
    "id": "FNjqUOoL2R6D",
    "outputId": "500a6890-238b-42ce-9982-b20348eeafef"
   },
   "outputs": [],
   "source": [
    "d.index(8)"
   ]
  },
  {
   "cell_type": "code",
   "execution_count": null,
   "metadata": {
    "colab": {
     "base_uri": "https://localhost:8080/"
    },
    "executionInfo": {
     "elapsed": 377,
     "status": "ok",
     "timestamp": 1663834974183,
     "user": {
      "displayName": "Luca Pusztaházi",
      "userId": "06295912630045743658"
     },
     "user_tz": -120
    },
    "id": "6g1HulYh2Tow",
    "outputId": "99a207c0-dd1b-4883-fa5e-938956c75df0"
   },
   "outputs": [],
   "source": [
    "for v in d:\n",
    "\tprint(v)"
   ]
  },
  {
   "cell_type": "code",
   "execution_count": null,
   "metadata": {
    "colab": {
     "base_uri": "https://localhost:8080/"
    },
    "executionInfo": {
     "elapsed": 394,
     "status": "ok",
     "timestamp": 1663834989325,
     "user": {
      "displayName": "Luca Pusztaházi",
      "userId": "06295912630045743658"
     },
     "user_tz": -120
    },
    "id": "73_1HDfp2ZoX",
    "outputId": "a4b3e544-99de-49c5-ab89-1b7b9d272564"
   },
   "outputs": [],
   "source": [
    "i = 0\n",
    "for v in d:\n",
    "\tprint(i, v)\n",
    "\ti += 1"
   ]
  },
  {
   "cell_type": "code",
   "execution_count": null,
   "metadata": {
    "colab": {
     "base_uri": "https://localhost:8080/"
    },
    "executionInfo": {
     "elapsed": 383,
     "status": "ok",
     "timestamp": 1663835070971,
     "user": {
      "displayName": "Luca Pusztaházi",
      "userId": "06295912630045743658"
     },
     "user_tz": -120
    },
    "id": "Y5AS5AbZ2fU6",
    "outputId": "4a4c59cb-4389-4544-900b-3552b6667b7e"
   },
   "outputs": [],
   "source": [
    "for n, v in enumerate(d):\n",
    "\tprint(n, v)"
   ]
  },
  {
   "cell_type": "code",
   "execution_count": null,
   "metadata": {
    "id": "FBFDvGN12ipE"
   },
   "outputs": [],
   "source": [
    "l1 = range(0,5) # 5 is missing, since range goes from min <= x1, x2, ... xN < max\n",
    "l2 = range(6,11)\n",
    "l3 = range(0,12,2)"
   ]
  },
  {
   "cell_type": "code",
   "execution_count": null,
   "metadata": {
    "colab": {
     "base_uri": "https://localhost:8080/"
    },
    "executionInfo": {
     "elapsed": 6,
     "status": "ok",
     "timestamp": 1663835228923,
     "user": {
      "displayName": "Luca Pusztaházi",
      "userId": "06295912630045743658"
     },
     "user_tz": -120
    },
    "id": "BFNSKi2ETgHM",
    "outputId": "c55f8dce-d1bd-49d0-8707-a43a89d39b1c"
   },
   "outputs": [],
   "source": [
    "print(list(l1))\n",
    "print(list(l3))\n"
   ]
  },
  {
   "cell_type": "code",
   "execution_count": null,
   "metadata": {
    "colab": {
     "base_uri": "https://localhost:8080/"
    },
    "executionInfo": {
     "elapsed": 385,
     "status": "ok",
     "timestamp": 1663835240028,
     "user": {
      "displayName": "Luca Pusztaházi",
      "userId": "06295912630045743658"
     },
     "user_tz": -120
    },
    "id": "ggW1vueA2z2o",
    "outputId": "e957bf99-fd05-4c13-ecf3-275b6a487030"
   },
   "outputs": [],
   "source": [
    "for vl1, vl2 in zip(l1,l2):\n",
    "\tprint(vl1, vl2)"
   ]
  },
  {
   "cell_type": "code",
   "execution_count": null,
   "metadata": {
    "colab": {
     "base_uri": "https://localhost:8080/",
     "height": 166
    },
    "executionInfo": {
     "elapsed": 457,
     "status": "error",
     "timestamp": 1663835276030,
     "user": {
      "displayName": "Luca Pusztaházi",
      "userId": "06295912630045743658"
     },
     "user_tz": -120
    },
    "id": "iHJKldFy8iDh",
    "outputId": "82aac978-1fa8-4971-85ac-c9f4e34147df"
   },
   "outputs": [],
   "source": [
    "', '.join(d)"
   ]
  },
  {
   "cell_type": "code",
   "execution_count": null,
   "metadata": {
    "colab": {
     "base_uri": "https://localhost:8080/"
    },
    "executionInfo": {
     "elapsed": 12,
     "status": "ok",
     "timestamp": 1663835378517,
     "user": {
      "displayName": "Luca Pusztaházi",
      "userId": "06295912630045743658"
     },
     "user_tz": -120
    },
    "id": "1zSNYEYuUN6A",
    "outputId": "749f4c40-4ed3-47b6-b7ab-fc6a2b37f38b"
   },
   "outputs": [],
   "source": [
    "type(d[0])"
   ]
  },
  {
   "cell_type": "code",
   "execution_count": null,
   "metadata": {
    "colab": {
     "base_uri": "https://localhost:8080/"
    },
    "executionInfo": {
     "elapsed": 8,
     "status": "ok",
     "timestamp": 1663835407163,
     "user": {
      "displayName": "Luca Pusztaházi",
      "userId": "06295912630045743658"
     },
     "user_tz": -120
    },
    "id": "0bMFLEK9UTgs",
    "outputId": "338c7f75-5a40-4bb2-b1f7-af948163bd55"
   },
   "outputs": [],
   "source": [
    "d[0] = str(d[0])\n",
    "type(d[0])"
   ]
  },
  {
   "cell_type": "code",
   "execution_count": null,
   "metadata": {
    "colab": {
     "base_uri": "https://localhost:8080/",
     "height": 35
    },
    "executionInfo": {
     "elapsed": 383,
     "status": "ok",
     "timestamp": 1663835341195,
     "user": {
      "displayName": "Luca Pusztaházi",
      "userId": "06295912630045743658"
     },
     "user_tz": -120
    },
    "id": "oRDAJ7FE3BqE",
    "outputId": "2a16070b-38b0-40e7-9cf2-b655932e7d85"
   },
   "outputs": [],
   "source": [
    "d2 = map(str,d)\n",
    "', '.join(d2)"
   ]
  },
  {
   "cell_type": "markdown",
   "metadata": {
    "id": "o1GjRvyxB2mY"
   },
   "source": [
    "## Slicing"
   ]
  },
  {
   "cell_type": "code",
   "execution_count": null,
   "metadata": {
    "colab": {
     "base_uri": "https://localhost:8080/"
    },
    "executionInfo": {
     "elapsed": 368,
     "status": "ok",
     "timestamp": 1663835467882,
     "user": {
      "displayName": "Luca Pusztaházi",
      "userId": "06295912630045743658"
     },
     "user_tz": -120
    },
    "id": "UadGVaYDB35m",
    "outputId": "859fe645-feb6-470e-c758-b3170581d133"
   },
   "outputs": [],
   "source": [
    "r = range(0,100,10)\n",
    "list(r)"
   ]
  },
  {
   "cell_type": "code",
   "execution_count": null,
   "metadata": {
    "colab": {
     "base_uri": "https://localhost:8080/"
    },
    "executionInfo": {
     "elapsed": 5,
     "status": "ok",
     "timestamp": 1663835482621,
     "user": {
      "displayName": "Luca Pusztaházi",
      "userId": "06295912630045743658"
     },
     "user_tz": -120
    },
    "id": "YagIrQFCB55D",
    "outputId": "fd99e5d2-3d71-4706-9047-a943ab5b29d1"
   },
   "outputs": [],
   "source": [
    "print(r[1])\n",
    "print(r[2])"
   ]
  },
  {
   "cell_type": "code",
   "execution_count": null,
   "metadata": {
    "colab": {
     "base_uri": "https://localhost:8080/"
    },
    "executionInfo": {
     "elapsed": 495,
     "status": "ok",
     "timestamp": 1663835504793,
     "user": {
      "displayName": "Luca Pusztaházi",
      "userId": "06295912630045743658"
     },
     "user_tz": -120
    },
    "id": "earidXHQCA-w",
    "outputId": "cd0b7935-92b9-44e5-8f6b-1bf42c1babc7"
   },
   "outputs": [],
   "source": [
    "r[1:4]"
   ]
  },
  {
   "cell_type": "code",
   "execution_count": null,
   "metadata": {
    "colab": {
     "base_uri": "https://localhost:8080/"
    },
    "executionInfo": {
     "elapsed": 356,
     "status": "ok",
     "timestamp": 1663835522428,
     "user": {
      "displayName": "Luca Pusztaházi",
      "userId": "06295912630045743658"
     },
     "user_tz": -120
    },
    "id": "0wZCWVGeCCZs",
    "outputId": "aa53d4aa-6321-4bfc-8680-3e03e574e4e1"
   },
   "outputs": [],
   "source": [
    "print(r[-1])\n",
    "print(r[-2])"
   ]
  },
  {
   "cell_type": "code",
   "execution_count": null,
   "metadata": {
    "colab": {
     "base_uri": "https://localhost:8080/"
    },
    "executionInfo": {
     "elapsed": 399,
     "status": "ok",
     "timestamp": 1663835549591,
     "user": {
      "displayName": "Luca Pusztaházi",
      "userId": "06295912630045743658"
     },
     "user_tz": -120
    },
    "id": "YY8zYC3kCG7c",
    "outputId": "211a7d28-8aef-4f23-c4a8-dd2cbb603b41"
   },
   "outputs": [],
   "source": [
    "list(r[1:10:2])"
   ]
  },
  {
   "cell_type": "code",
   "execution_count": null,
   "metadata": {
    "colab": {
     "base_uri": "https://localhost:8080/"
    },
    "executionInfo": {
     "elapsed": 5,
     "status": "ok",
     "timestamp": 1663835659602,
     "user": {
      "displayName": "Luca Pusztaházi",
      "userId": "06295912630045743658"
     },
     "user_tz": -120
    },
    "id": "hmy1ENVACJfM",
    "outputId": "9a0be985-3c95-4893-d278-c3f10fbd8989"
   },
   "outputs": [],
   "source": [
    "print(list(r[::2]))\n",
    "print(list(r[::4]))"
   ]
  },
  {
   "cell_type": "code",
   "execution_count": null,
   "metadata": {
    "id": "lXJgCZx5CiGB"
   },
   "outputs": [],
   "source": [
    "print(list(r[::-1]))\n",
    "print(list(r[::-2]))"
   ]
  },
  {
   "cell_type": "code",
   "execution_count": null,
   "metadata": {},
   "outputs": [],
   "source": []
  },
  {
   "cell_type": "markdown",
   "metadata": {
    "id": "AmdSKehRCmCz"
   },
   "source": [
    "## List comprehension"
   ]
  },
  {
   "cell_type": "code",
   "execution_count": null,
   "metadata": {
    "colab": {
     "base_uri": "https://localhost:8080/"
    },
    "executionInfo": {
     "elapsed": 367,
     "status": "ok",
     "timestamp": 1663835760288,
     "user": {
      "displayName": "Luca Pusztaházi",
      "userId": "06295912630045743658"
     },
     "user_tz": -120
    },
    "id": "3GQA3YwWCnjk",
    "outputId": "fee1fb70-2234-4007-861b-0b2a1002dafc"
   },
   "outputs": [],
   "source": [
    "l = []\n",
    "for v in range(10):\n",
    "    if v%2==0:\n",
    "        l.append(v**2)\n",
    "l"
   ]
  },
  {
   "cell_type": "code",
   "execution_count": null,
   "metadata": {
    "colab": {
     "base_uri": "https://localhost:8080/"
    },
    "executionInfo": {
     "elapsed": 332,
     "status": "ok",
     "timestamp": 1663835819155,
     "user": {
      "displayName": "Luca Pusztaházi",
      "userId": "06295912630045743658"
     },
     "user_tz": -120
    },
    "id": "IvUujBeCCp3s",
    "outputId": "93f512b9-1ba3-4743-e170-c72918b28eb3"
   },
   "outputs": [],
   "source": [
    "[v**2 for v in range(10)]"
   ]
  },
  {
   "cell_type": "code",
   "execution_count": null,
   "metadata": {
    "colab": {
     "base_uri": "https://localhost:8080/"
    },
    "executionInfo": {
     "elapsed": 673,
     "status": "ok",
     "timestamp": 1663835857766,
     "user": {
      "displayName": "Luca Pusztaházi",
      "userId": "06295912630045743658"
     },
     "user_tz": -120
    },
    "id": "g5famNJhCv--",
    "outputId": "142cefdc-5de1-4921-ba8f-8ae238473789"
   },
   "outputs": [],
   "source": [
    "[x**2 for x in range(10) if x%2==0]"
   ]
  },
  {
   "cell_type": "code",
   "execution_count": null,
   "metadata": {
    "colab": {
     "base_uri": "https://localhost:8080/"
    },
    "executionInfo": {
     "elapsed": 365,
     "status": "ok",
     "timestamp": 1663835886044,
     "user": {
      "displayName": "Luca Pusztaházi",
      "userId": "06295912630045743658"
     },
     "user_tz": -120
    },
    "id": "xD3NE6gMCyA0",
    "outputId": "6cea40b5-888a-41d7-8037-f9972810176d"
   },
   "outputs": [],
   "source": [
    "[(x,x**2) for x in range(10) if x%2==0]"
   ]
  },
  {
   "cell_type": "code",
   "execution_count": null,
   "metadata": {
    "id": "ETlCuD0WCy3_"
   },
   "outputs": [],
   "source": []
  },
  {
   "cell_type": "markdown",
   "metadata": {
    "id": "1FHsHgcbC1pX"
   },
   "source": [
    "## Tuple"
   ]
  },
  {
   "cell_type": "code",
   "execution_count": null,
   "metadata": {
    "colab": {
     "base_uri": "https://localhost:8080/"
    },
    "executionInfo": {
     "elapsed": 726,
     "status": "ok",
     "timestamp": 1663835927149,
     "user": {
      "displayName": "Luca Pusztaházi",
      "userId": "06295912630045743658"
     },
     "user_tz": -120
    },
    "id": "_e2w3ziyC4nh",
    "outputId": "a933ab01-ecb3-4090-b8f2-4a2d823656e1"
   },
   "outputs": [],
   "source": [
    "tup = (0,3.14,'pi')\n",
    "tup"
   ]
  },
  {
   "cell_type": "code",
   "execution_count": null,
   "metadata": {
    "colab": {
     "base_uri": "https://localhost:8080/"
    },
    "executionInfo": {
     "elapsed": 563,
     "status": "ok",
     "timestamp": 1663835952404,
     "user": {
      "displayName": "Luca Pusztaházi",
      "userId": "06295912630045743658"
     },
     "user_tz": -120
    },
    "id": "CZlMs9xWC6vI",
    "outputId": "bc8a4b7d-ad65-44a8-efaa-2e8f048aad7d"
   },
   "outputs": [],
   "source": [
    "tup = 0,3.14,'pi'\n",
    "tup"
   ]
  },
  {
   "cell_type": "code",
   "execution_count": null,
   "metadata": {
    "colab": {
     "base_uri": "https://localhost:8080/"
    },
    "executionInfo": {
     "elapsed": 6,
     "status": "ok",
     "timestamp": 1663835963390,
     "user": {
      "displayName": "Luca Pusztaházi",
      "userId": "06295912630045743658"
     },
     "user_tz": -120
    },
    "id": "SNkn-36SWebx",
    "outputId": "369b1df1-7131-4ed2-a5bc-9f11843aad5b"
   },
   "outputs": [],
   "source": [
    "type(tup)"
   ]
  },
  {
   "cell_type": "code",
   "execution_count": null,
   "metadata": {
    "colab": {
     "base_uri": "https://localhost:8080/"
    },
    "executionInfo": {
     "elapsed": 547,
     "status": "ok",
     "timestamp": 1663835986150,
     "user": {
      "displayName": "Luca Pusztaházi",
      "userId": "06295912630045743658"
     },
     "user_tz": -120
    },
    "id": "tLMCUCLoWkmT",
    "outputId": "bb60de47-4a50-4388-fba4-ad7498ec2f02"
   },
   "outputs": [],
   "source": [
    "r"
   ]
  },
  {
   "cell_type": "code",
   "execution_count": null,
   "metadata": {
    "colab": {
     "base_uri": "https://localhost:8080/"
    },
    "executionInfo": {
     "elapsed": 354,
     "status": "ok",
     "timestamp": 1663835993675,
     "user": {
      "displayName": "Luca Pusztaházi",
      "userId": "06295912630045743658"
     },
     "user_tz": -120
    },
    "id": "bF--2eeNC82X",
    "outputId": "9864189d-df69-41e7-db07-c91ade6d28e3"
   },
   "outputs": [],
   "source": [
    "tuple(r)"
   ]
  },
  {
   "cell_type": "code",
   "execution_count": null,
   "metadata": {
    "colab": {
     "base_uri": "https://localhost:8080/"
    },
    "executionInfo": {
     "elapsed": 504,
     "status": "ok",
     "timestamp": 1663836011905,
     "user": {
      "displayName": "Luca Pusztaházi",
      "userId": "06295912630045743658"
     },
     "user_tz": -120
    },
    "id": "ZpoPbNwlDCLV",
    "outputId": "38b553c0-dc1b-40ad-d7cf-da091a3aa4d3"
   },
   "outputs": [],
   "source": [
    "tup[0:2]"
   ]
  },
  {
   "cell_type": "code",
   "execution_count": null,
   "metadata": {
    "colab": {
     "base_uri": "https://localhost:8080/"
    },
    "executionInfo": {
     "elapsed": 362,
     "status": "ok",
     "timestamp": 1663836023757,
     "user": {
      "displayName": "Luca Pusztaházi",
      "userId": "06295912630045743658"
     },
     "user_tz": -120
    },
    "id": "lZO8u2iyDE_l",
    "outputId": "35cdd679-cebb-427b-f729-c84c75d494bc"
   },
   "outputs": [],
   "source": [
    "tup.index('pi')"
   ]
  },
  {
   "cell_type": "code",
   "execution_count": null,
   "metadata": {
    "id": "ttsfDE1bDGj-"
   },
   "outputs": [],
   "source": [
    "q = [(0.1,'alpha'),(0.2,'beta'),(0.3,'gamma')]"
   ]
  },
  {
   "cell_type": "code",
   "execution_count": null,
   "metadata": {
    "colab": {
     "base_uri": "https://localhost:8080/"
    },
    "executionInfo": {
     "elapsed": 333,
     "status": "ok",
     "timestamp": 1663836069122,
     "user": {
      "displayName": "Luca Pusztaházi",
      "userId": "06295912630045743658"
     },
     "user_tz": -120
    },
    "id": "64XsFwl-DJej",
    "outputId": "10346946-7f7a-4b59-8bc7-001bd2953d3e"
   },
   "outputs": [],
   "source": [
    "for v, s in q:\n",
    "\tprint(v, s)"
   ]
  },
  {
   "cell_type": "code",
   "execution_count": null,
   "metadata": {
    "colab": {
     "base_uri": "https://localhost:8080/"
    },
    "executionInfo": {
     "elapsed": 412,
     "status": "ok",
     "timestamp": 1663836086075,
     "user": {
      "displayName": "Luca Pusztaházi",
      "userId": "06295912630045743658"
     },
     "user_tz": -120
    },
    "id": "2V8ztJmjDMdw",
    "outputId": "9516f95c-2629-4f66-f8ad-5efde824a290"
   },
   "outputs": [],
   "source": [
    "for n, p in enumerate(q):\n",
    "\tprint(n, p)"
   ]
  },
  {
   "cell_type": "code",
   "execution_count": null,
   "metadata": {
    "colab": {
     "base_uri": "https://localhost:8080/"
    },
    "executionInfo": {
     "elapsed": 354,
     "status": "ok",
     "timestamp": 1663836129030,
     "user": {
      "displayName": "Luca Pusztaházi",
      "userId": "06295912630045743658"
     },
     "user_tz": -120
    },
    "id": "2lPdha-zDQ8_",
    "outputId": "2fc22f24-0dcd-4dea-cb41-8917bec145a1"
   },
   "outputs": [],
   "source": [
    "l = []\n",
    "for i in range(20):\n",
    "\ttup = (i,2**i,3**i)\n",
    "\tl.append(tup)\n",
    "l"
   ]
  },
  {
   "cell_type": "code",
   "execution_count": null,
   "metadata": {
    "colab": {
     "base_uri": "https://localhost:8080/"
    },
    "executionInfo": {
     "elapsed": 364,
     "status": "ok",
     "timestamp": 1663836157715,
     "user": {
      "displayName": "Luca Pusztaházi",
      "userId": "06295912630045743658"
     },
     "user_tz": -120
    },
    "id": "eodr8fCmDTYN",
    "outputId": "5bc6f080-1230-42c2-b376-432fa97136e2"
   },
   "outputs": [],
   "source": [
    "l[1:4]"
   ]
  },
  {
   "cell_type": "code",
   "execution_count": null,
   "metadata": {
    "colab": {
     "base_uri": "https://localhost:8080/"
    },
    "executionInfo": {
     "elapsed": 362,
     "status": "ok",
     "timestamp": 1663836167949,
     "user": {
      "displayName": "Luca Pusztaházi",
      "userId": "06295912630045743658"
     },
     "user_tz": -120
    },
    "id": "voj8O6aSDhiW",
    "outputId": "75c93059-9629-4cd6-f409-8ca6e473d78d"
   },
   "outputs": [],
   "source": [
    "tuple(l[1:4])"
   ]
  },
  {
   "cell_type": "code",
   "execution_count": null,
   "metadata": {
    "id": "9gZQ8eBwDi4a"
   },
   "outputs": [],
   "source": [
    "print(tup+tup)\n",
    "print(tup*3)"
   ]
  },
  {
   "cell_type": "code",
   "execution_count": null,
   "metadata": {},
   "outputs": [],
   "source": []
  },
  {
   "cell_type": "markdown",
   "metadata": {
    "id": "RPeWrFHADmUS"
   },
   "source": [
    "## Dictionary"
   ]
  },
  {
   "cell_type": "code",
   "execution_count": null,
   "metadata": {
    "id": "oSJ2qCv2Dooo"
   },
   "outputs": [],
   "source": [
    "p1 = {'jim':2131,'phil':1250,'joe':5322}"
   ]
  },
  {
   "cell_type": "code",
   "execution_count": null,
   "metadata": {
    "colab": {
     "base_uri": "https://localhost:8080/"
    },
    "executionInfo": {
     "elapsed": 359,
     "status": "ok",
     "timestamp": 1663836261043,
     "user": {
      "displayName": "Luca Pusztaházi",
      "userId": "06295912630045743658"
     },
     "user_tz": -120
    },
    "id": "uNmdV8DVDqs5",
    "outputId": "671fed42-51c9-4a8a-9d2b-d892bb0f60d5"
   },
   "outputs": [],
   "source": [
    "p1.keys()"
   ]
  },
  {
   "cell_type": "code",
   "execution_count": null,
   "metadata": {
    "colab": {
     "base_uri": "https://localhost:8080/"
    },
    "executionInfo": {
     "elapsed": 360,
     "status": "ok",
     "timestamp": 1663836269432,
     "user": {
      "displayName": "Luca Pusztaházi",
      "userId": "06295912630045743658"
     },
     "user_tz": -120
    },
    "id": "GMDr9AplDu9F",
    "outputId": "db68b4fc-cf77-4dce-e8fb-fa9ceba81145"
   },
   "outputs": [],
   "source": [
    "p1.values()"
   ]
  },
  {
   "cell_type": "code",
   "execution_count": null,
   "metadata": {
    "colab": {
     "base_uri": "https://localhost:8080/"
    },
    "executionInfo": {
     "elapsed": 355,
     "status": "ok",
     "timestamp": 1663836273131,
     "user": {
      "displayName": "Luca Pusztaházi",
      "userId": "06295912630045743658"
     },
     "user_tz": -120
    },
    "id": "31fe1wHkDwKS",
    "outputId": "fdb6a081-1c58-4004-b6aa-5b49367a36b1"
   },
   "outputs": [],
   "source": [
    "p1.items()"
   ]
  },
  {
   "cell_type": "code",
   "execution_count": null,
   "metadata": {
    "id": "Ws-zILJEDw-T"
   },
   "outputs": [],
   "source": [
    "p1['jack'] = 1123"
   ]
  },
  {
   "cell_type": "code",
   "execution_count": null,
   "metadata": {
    "colab": {
     "base_uri": "https://localhost:8080/"
    },
    "executionInfo": {
     "elapsed": 536,
     "status": "ok",
     "timestamp": 1663836352603,
     "user": {
      "displayName": "Luca Pusztaházi",
      "userId": "06295912630045743658"
     },
     "user_tz": -120
    },
    "id": "yDI7VLzgDzZZ",
    "outputId": "1315da0c-5a33-4338-d219-1b229e5dcb52"
   },
   "outputs": [],
   "source": [
    "for key, value in iter(p1.items()):\n",
    "\tprint(key, value)"
   ]
  },
  {
   "cell_type": "code",
   "execution_count": null,
   "metadata": {
    "colab": {
     "base_uri": "https://localhost:8080/"
    },
    "executionInfo": {
     "elapsed": 345,
     "status": "ok",
     "timestamp": 1663836363441,
     "user": {
      "displayName": "Luca Pusztaházi",
      "userId": "06295912630045743658"
     },
     "user_tz": -120
    },
    "id": "8_Ow_53aD020",
    "outputId": "9622d610-9ffa-41bc-ef7b-7024d2193f5f"
   },
   "outputs": [],
   "source": [
    "p1 = dict([('jim',2131),('phil',2313)])\n",
    "p1"
   ]
  },
  {
   "cell_type": "code",
   "execution_count": null,
   "metadata": {
    "id": "S82bUphkEQFT"
   },
   "outputs": [],
   "source": []
  },
  {
   "cell_type": "markdown",
   "metadata": {
    "id": "ZYNIEEMzEVLZ"
   },
   "source": [
    "## Set"
   ]
  },
  {
   "cell_type": "code",
   "execution_count": null,
   "metadata": {
    "colab": {
     "base_uri": "https://localhost:8080/"
    },
    "executionInfo": {
     "elapsed": 361,
     "status": "ok",
     "timestamp": 1663836389590,
     "user": {
      "displayName": "Luca Pusztaházi",
      "userId": "06295912630045743658"
     },
     "user_tz": -120
    },
    "id": "y09TyGuNEf0a",
    "outputId": "6a0580e4-0472-4eab-8b75-8dbf148506b6"
   },
   "outputs": [],
   "source": [
    "sa = set([1,2,3,3,3,3,3]) \t# from list\n",
    "sa"
   ]
  },
  {
   "cell_type": "code",
   "execution_count": null,
   "metadata": {
    "colab": {
     "base_uri": "https://localhost:8080/"
    },
    "executionInfo": {
     "elapsed": 372,
     "status": "ok",
     "timestamp": 1663836420507,
     "user": {
      "displayName": "Luca Pusztaházi",
      "userId": "06295912630045743658"
     },
     "user_tz": -120
    },
    "id": "0ba-T_DlEjUp",
    "outputId": "83fb34e2-ddaa-4597-8f6e-507b6d5563c5"
   },
   "outputs": [],
   "source": [
    "sb = set((3,4,5)) \t\t# from tuple\n",
    "sb"
   ]
  },
  {
   "cell_type": "code",
   "execution_count": null,
   "metadata": {
    "colab": {
     "base_uri": "https://localhost:8080/"
    },
    "executionInfo": {
     "elapsed": 373,
     "status": "ok",
     "timestamp": 1663836431610,
     "user": {
      "displayName": "Luca Pusztaházi",
      "userId": "06295912630045743658"
     },
     "user_tz": -120
    },
    "id": "jPRlXOi7Ekto",
    "outputId": "600a0c74-6ecb-4440-ff0a-15225953b7c8"
   },
   "outputs": [],
   "source": [
    "sa | sb # union"
   ]
  },
  {
   "cell_type": "code",
   "execution_count": null,
   "metadata": {},
   "outputs": [],
   "source": [
    "sa.union(sb)"
   ]
  },
  {
   "cell_type": "code",
   "execution_count": null,
   "metadata": {
    "colab": {
     "base_uri": "https://localhost:8080/"
    },
    "executionInfo": {
     "elapsed": 372,
     "status": "ok",
     "timestamp": 1663836434426,
     "user": {
      "displayName": "Luca Pusztaházi",
      "userId": "06295912630045743658"
     },
     "user_tz": -120
    },
    "id": "pgcz15bsEtJM",
    "outputId": "a37f950a-bfbf-4742-b2ce-8177825a9afb"
   },
   "outputs": [],
   "source": [
    "sa & sb # intersection"
   ]
  },
  {
   "cell_type": "code",
   "execution_count": null,
   "metadata": {},
   "outputs": [],
   "source": [
    "sa.intersection(sb)"
   ]
  },
  {
   "cell_type": "code",
   "execution_count": null,
   "metadata": {
    "colab": {
     "base_uri": "https://localhost:8080/"
    },
    "executionInfo": {
     "elapsed": 539,
     "status": "ok",
     "timestamp": 1663836437552,
     "user": {
      "displayName": "Luca Pusztaházi",
      "userId": "06295912630045743658"
     },
     "user_tz": -120
    },
    "id": "mS8_EQ6fEuuW",
    "outputId": "e45fecda-e26c-42cb-8a7c-64d4720271fa"
   },
   "outputs": [],
   "source": [
    "sa - sb # difference"
   ]
  },
  {
   "cell_type": "code",
   "execution_count": null,
   "metadata": {},
   "outputs": [],
   "source": [
    "sa.difference(sb)"
   ]
  },
  {
   "cell_type": "code",
   "execution_count": null,
   "metadata": {
    "colab": {
     "base_uri": "https://localhost:8080/"
    },
    "executionInfo": {
     "elapsed": 336,
     "status": "ok",
     "timestamp": 1663836478158,
     "user": {
      "displayName": "Luca Pusztaházi",
      "userId": "06295912630045743658"
     },
     "user_tz": -120
    },
    "id": "2oltS99GEvcU",
    "outputId": "ee17e5d1-7130-4bc8-bdeb-9123f652be00"
   },
   "outputs": [],
   "source": [
    "6 in sa # whether 6 is in sa"
   ]
  },
  {
   "cell_type": "code",
   "execution_count": null,
   "metadata": {},
   "outputs": [],
   "source": [
    "(sa - sb) | (sb - sa) # symmetric difference"
   ]
  },
  {
   "cell_type": "code",
   "execution_count": null,
   "metadata": {},
   "outputs": [],
   "source": [
    "sa.symmetric_difference(sb)"
   ]
  },
  {
   "cell_type": "code",
   "execution_count": null,
   "metadata": {
    "colab": {
     "base_uri": "https://localhost:8080/"
    },
    "executionInfo": {
     "elapsed": 366,
     "status": "ok",
     "timestamp": 1663836490697,
     "user": {
      "displayName": "Luca Pusztaházi",
      "userId": "06295912630045743658"
     },
     "user_tz": -120
    },
    "id": "yceyfS4mEyMo",
    "outputId": "7a44d498-741e-46a8-9908-1bf804aa5d04"
   },
   "outputs": [],
   "source": [
    "set([1,2,3]) - sa"
   ]
  },
  {
   "cell_type": "code",
   "execution_count": null,
   "metadata": {
    "id": "Qi350_4RE4np"
   },
   "outputs": [],
   "source": [
    "sa.remove(2)\n",
    "sa"
   ]
  },
  {
   "cell_type": "code",
   "execution_count": null,
   "metadata": {},
   "outputs": [],
   "source": [
    "sa.add(2)\n",
    "sa"
   ]
  },
  {
   "cell_type": "code",
   "execution_count": null,
   "metadata": {},
   "outputs": [],
   "source": []
  },
  {
   "cell_type": "markdown",
   "metadata": {
    "id": "igNzmsljE9s2"
   },
   "source": [
    "## Functions"
   ]
  },
  {
   "cell_type": "code",
   "execution_count": null,
   "metadata": {
    "id": "6pfmHy9TE_uH"
   },
   "outputs": [],
   "source": [
    "def f(x,y):\n",
    "    return x+y"
   ]
  },
  {
   "cell_type": "code",
   "execution_count": null,
   "metadata": {
    "id": "9wpJu4xLFBvR"
   },
   "outputs": [],
   "source": [
    "params = {'x':1,'y':2}"
   ]
  },
  {
   "cell_type": "code",
   "execution_count": null,
   "metadata": {
    "colab": {
     "base_uri": "https://localhost:8080/"
    },
    "executionInfo": {
     "elapsed": 1003,
     "status": "ok",
     "timestamp": 1663836598411,
     "user": {
      "displayName": "Luca Pusztaházi",
      "userId": "06295912630045743658"
     },
     "user_tz": -120
    },
    "id": "yRkieacaFDHk",
    "outputId": "6c2e339b-cd4d-4c48-ad65-6ea342ded74c"
   },
   "outputs": [],
   "source": [
    "print(f(1,2))\n",
    "print(f(params['x'], params['y']))\n",
    "print(f(**params))\n",
    "print(f(*(1,2)))\n",
    "print(f(*[1,2]))"
   ]
  },
  {
   "cell_type": "code",
   "execution_count": null,
   "metadata": {
    "colab": {
     "base_uri": "https://localhost:8080/"
    },
    "executionInfo": {
     "elapsed": 358,
     "status": "ok",
     "timestamp": 1663836785208,
     "user": {
      "displayName": "Luca Pusztaházi",
      "userId": "06295912630045743658"
     },
     "user_tz": -120
    },
    "id": "klO1LH9ZFSy1",
    "outputId": "2c63d51c-edd3-462d-93d4-c9ec4e957e7b"
   },
   "outputs": [],
   "source": [
    "list(map(lambda x: f(x[0],x[1]),[(1,2),(4,5)]))"
   ]
  },
  {
   "cell_type": "markdown",
   "metadata": {},
   "source": [
    "#### Explaining the expression:\n",
    "\n",
    "A **lambda functions** origin their roots from lambda calculus, are intended as a shorthand for defining functions that can come in handy to write concise code without wasting multiple lines defining a small anonymous function.\n",
    "\n",
    "A **lambda function** can take any number of arguments, but can only have one expression.\n",
    "\n",
    "###### Syntax:\n",
    "*lambda* arguments : *expression*"
   ]
  },
  {
   "cell_type": "code",
   "execution_count": null,
   "metadata": {},
   "outputs": [],
   "source": [
    "def add_one(x):\n",
    "    return x + 1\n",
    "\n",
    "add_one(2)"
   ]
  },
  {
   "cell_type": "code",
   "execution_count": null,
   "metadata": {},
   "outputs": [],
   "source": [
    "add_one = lambda x: x + 1\n",
    "add_one(2)"
   ]
  },
  {
   "cell_type": "markdown",
   "metadata": {},
   "source": [
    "The **map()** function executes a specified function for each item in an iterable. The item is sent to the function as a parameter.\n",
    "\n",
    "###### Syntax\n",
    "*map*(function, iterables)"
   ]
  },
  {
   "cell_type": "code",
   "execution_count": null,
   "metadata": {},
   "outputs": [],
   "source": [
    "def length(n):\n",
    "    return len(n)\n",
    "\n",
    "x = map(length, ('apple', 'banana', 'cherry')) "
   ]
  },
  {
   "cell_type": "markdown",
   "metadata": {
    "id": "uoOMbK8vFVCY"
   },
   "source": [
    "#### Take a look again on the previous example"
   ]
  },
  {
   "cell_type": "code",
   "execution_count": null,
   "metadata": {},
   "outputs": [],
   "source": [
    "list(map(lambda x: f(x[0],x[1]),[(1,2),(4,5)]))"
   ]
  },
  {
   "cell_type": "code",
   "execution_count": null,
   "metadata": {},
   "outputs": [],
   "source": []
  },
  {
   "cell_type": "markdown",
   "metadata": {
    "id": "LNTggPitceGS"
   },
   "source": [
    "# Numpy"
   ]
  },
  {
   "cell_type": "code",
   "execution_count": null,
   "metadata": {
    "id": "N_kUYdobc7N3"
   },
   "outputs": [],
   "source": [
    "import numpy as np\n",
    "import math"
   ]
  },
  {
   "cell_type": "code",
   "execution_count": null,
   "metadata": {
    "colab": {
     "base_uri": "https://localhost:8080/"
    },
    "executionInfo": {
     "elapsed": 7,
     "status": "ok",
     "timestamp": 1663836929519,
     "user": {
      "displayName": "Luca Pusztaházi",
      "userId": "06295912630045743658"
     },
     "user_tz": -120
    },
    "id": "9IyxJXqaepAJ",
    "outputId": "84c4dc2d-4dbe-42f4-b29d-663e2aa3a29f"
   },
   "outputs": [],
   "source": [
    "a = np.array([1,2,3])\n",
    "a"
   ]
  },
  {
   "cell_type": "code",
   "execution_count": null,
   "metadata": {
    "colab": {
     "base_uri": "https://localhost:8080/"
    },
    "executionInfo": {
     "elapsed": 470,
     "status": "ok",
     "timestamp": 1663836945878,
     "user": {
      "displayName": "Luca Pusztaházi",
      "userId": "06295912630045743658"
     },
     "user_tz": -120
    },
    "id": "dDS_jH2ve_4I",
    "outputId": "d357d018-8120-4a5e-c3ac-d9c059c79193"
   },
   "outputs": [],
   "source": [
    "print(a.ndim)\n",
    "print(a.shape)"
   ]
  },
  {
   "cell_type": "code",
   "execution_count": null,
   "metadata": {
    "colab": {
     "base_uri": "https://localhost:8080/"
    },
    "executionInfo": {
     "elapsed": 391,
     "status": "ok",
     "timestamp": 1663836963408,
     "user": {
      "displayName": "Luca Pusztaházi",
      "userId": "06295912630045743658"
     },
     "user_tz": -120
    },
    "id": "vTQGqxbvfHAP",
    "outputId": "3a312324-ba68-4762-b7eb-941467e4c611"
   },
   "outputs": [],
   "source": [
    "b = np.array([[1,2,3], [4,5,6]])\n",
    "b"
   ]
  },
  {
   "cell_type": "code",
   "execution_count": null,
   "metadata": {
    "colab": {
     "base_uri": "https://localhost:8080/"
    },
    "executionInfo": {
     "elapsed": 390,
     "status": "ok",
     "timestamp": 1663836968328,
     "user": {
      "displayName": "Luca Pusztaházi",
      "userId": "06295912630045743658"
     },
     "user_tz": -120
    },
    "id": "6xX2W96ufeCN",
    "outputId": "7e016073-ecf8-49ab-9518-00ab1feab32a"
   },
   "outputs": [],
   "source": [
    "print(b.ndim)\n",
    "print(b.shape)"
   ]
  },
  {
   "cell_type": "code",
   "execution_count": null,
   "metadata": {},
   "outputs": [],
   "source": [
    "b = np.array([[[1,2,3], [4,5,6]], [[1,2,3], [4,5,6]]])\n",
    "print(b)\n",
    "print(b.ndim)\n",
    "print(b.shape)"
   ]
  },
  {
   "cell_type": "code",
   "execution_count": null,
   "metadata": {
    "colab": {
     "base_uri": "https://localhost:8080/"
    },
    "executionInfo": {
     "elapsed": 626,
     "status": "ok",
     "timestamp": 1663836992845,
     "user": {
      "displayName": "Luca Pusztaházi",
      "userId": "06295912630045743658"
     },
     "user_tz": -120
    },
    "id": "Pgrei3FgjXWs",
    "outputId": "67a18d8e-42e2-44ee-882c-3c1ab3cf3c3f"
   },
   "outputs": [],
   "source": [
    "print(a.dtype)"
   ]
  },
  {
   "cell_type": "code",
   "execution_count": null,
   "metadata": {
    "colab": {
     "base_uri": "https://localhost:8080/",
     "height": 35
    },
    "executionInfo": {
     "elapsed": 344,
     "status": "ok",
     "timestamp": 1663837028426,
     "user": {
      "displayName": "Luca Pusztaházi",
      "userId": "06295912630045743658"
     },
     "user_tz": -120
    },
    "id": "VIh9TgpUoqpY",
    "outputId": "f34ee398-96ed-45d0-b6c8-b5938fd31b1c"
   },
   "outputs": [],
   "source": [
    "c = np.array([2.2, 5, 1.1])\n",
    "c.dtype.name"
   ]
  },
  {
   "cell_type": "code",
   "execution_count": null,
   "metadata": {
    "colab": {
     "base_uri": "https://localhost:8080/"
    },
    "executionInfo": {
     "elapsed": 374,
     "status": "ok",
     "timestamp": 1663837085023,
     "user": {
      "displayName": "Luca Pusztaházi",
      "userId": "06295912630045743658"
     },
     "user_tz": -120
    },
    "id": "M_VWxQo1o1Ng",
    "outputId": "70d2518b-4000-4b17-dc25-41d4a8d297ce"
   },
   "outputs": [],
   "source": [
    "d = np.zeros((2,3))\n",
    "d"
   ]
  },
  {
   "cell_type": "code",
   "execution_count": null,
   "metadata": {
    "colab": {
     "base_uri": "https://localhost:8080/"
    },
    "executionInfo": {
     "elapsed": 380,
     "status": "ok",
     "timestamp": 1663837096742,
     "user": {
      "displayName": "Luca Pusztaházi",
      "userId": "06295912630045743658"
     },
     "user_tz": -120
    },
    "id": "5RgclEM7pIF-",
    "outputId": "de5eb58a-295c-430b-e8dc-0feaed0f5223"
   },
   "outputs": [],
   "source": [
    "e = np.ones((2,3))\n",
    "e"
   ]
  },
  {
   "cell_type": "code",
   "execution_count": null,
   "metadata": {
    "colab": {
     "base_uri": "https://localhost:8080/"
    },
    "executionInfo": {
     "elapsed": 360,
     "status": "ok",
     "timestamp": 1663837106650,
     "user": {
      "displayName": "Luca Pusztaházi",
      "userId": "06295912630045743658"
     },
     "user_tz": -120
    },
    "id": "3leI17GdpMxM",
    "outputId": "644e0439-3843-44ff-f758-07772ebbef49"
   },
   "outputs": [],
   "source": [
    "np.random.rand(2,3)"
   ]
  },
  {
   "cell_type": "code",
   "execution_count": null,
   "metadata": {
    "colab": {
     "base_uri": "https://localhost:8080/"
    },
    "executionInfo": {
     "elapsed": 356,
     "status": "ok",
     "timestamp": 1663837125407,
     "user": {
      "displayName": "Luca Pusztaházi",
      "userId": "06295912630045743658"
     },
     "user_tz": -120
    },
    "id": "lwIiigUlpSY2",
    "outputId": "0c0faa4d-e022-46b5-ee27-53f82b8c117e"
   },
   "outputs": [],
   "source": [
    "np.arange(10,50,2) #exclusive"
   ]
  },
  {
   "cell_type": "code",
   "execution_count": null,
   "metadata": {
    "colab": {
     "base_uri": "https://localhost:8080/"
    },
    "executionInfo": {
     "elapsed": 363,
     "status": "ok",
     "timestamp": 1663837185099,
     "user": {
      "displayName": "Luca Pusztaházi",
      "userId": "06295912630045743658"
     },
     "user_tz": -120
    },
    "id": "t3pUgnGNp7ku",
    "outputId": "af70b4d4-ee8b-4eba-d65a-7e09731f80b5"
   },
   "outputs": [],
   "source": [
    "np.linspace(0,2,15) #inclusive"
   ]
  },
  {
   "cell_type": "code",
   "execution_count": null,
   "metadata": {},
   "outputs": [],
   "source": [
    "range(0,1,0.2)"
   ]
  },
  {
   "cell_type": "code",
   "execution_count": null,
   "metadata": {
    "id": "L8WXrxzhqD_f"
   },
   "outputs": [],
   "source": [
    "np.arange(0,1,0.2)"
   ]
  },
  {
   "cell_type": "code",
   "execution_count": null,
   "metadata": {},
   "outputs": [],
   "source": []
  },
  {
   "cell_type": "markdown",
   "metadata": {
    "id": "zTgAKkUkqh36"
   },
   "source": [
    "## Mathematical manipulation on arrays"
   ]
  },
  {
   "cell_type": "markdown",
   "metadata": {
    "id": "yD6aLD1PrbRi"
   },
   "source": [
    "### Elementwise"
   ]
  },
  {
   "cell_type": "code",
   "execution_count": null,
   "metadata": {
    "id": "dNiH6x23ql8m"
   },
   "outputs": [],
   "source": [
    "a = np.array([10, 20, 30, 40])\n",
    "b = np.array([1, 2, 3, 4])"
   ]
  },
  {
   "cell_type": "code",
   "execution_count": null,
   "metadata": {
    "colab": {
     "base_uri": "https://localhost:8080/"
    },
    "executionInfo": {
     "elapsed": 368,
     "status": "ok",
     "timestamp": 1663837312037,
     "user": {
      "displayName": "Luca Pusztaházi",
      "userId": "06295912630045743658"
     },
     "user_tz": -120
    },
    "id": "iWaaFAx_q1Tj",
    "outputId": "666dc258-d660-434b-e9db-acf1423c429d"
   },
   "outputs": [],
   "source": [
    "a - b"
   ]
  },
  {
   "cell_type": "code",
   "execution_count": null,
   "metadata": {
    "colab": {
     "base_uri": "https://localhost:8080/"
    },
    "executionInfo": {
     "elapsed": 350,
     "status": "ok",
     "timestamp": 1663837322697,
     "user": {
      "displayName": "Luca Pusztaházi",
      "userId": "06295912630045743658"
     },
     "user_tz": -120
    },
    "id": "zvZogoPNq2Ii",
    "outputId": "01281ec6-5bca-43da-ec1a-732ac297995f"
   },
   "outputs": [],
   "source": [
    "a * b"
   ]
  },
  {
   "cell_type": "code",
   "execution_count": null,
   "metadata": {},
   "outputs": [],
   "source": []
  },
  {
   "cell_type": "markdown",
   "metadata": {
    "id": "Z5SjvCeIre1D"
   },
   "source": [
    "###  Matrix manipulation"
   ]
  },
  {
   "cell_type": "code",
   "execution_count": null,
   "metadata": {
    "id": "fU11UsSXq4Ec"
   },
   "outputs": [],
   "source": [
    "A = np.array([[1,1], [0,1]])\n",
    "B = np.array([[2,0], [3,4]])"
   ]
  },
  {
   "cell_type": "code",
   "execution_count": null,
   "metadata": {
    "colab": {
     "base_uri": "https://localhost:8080/"
    },
    "executionInfo": {
     "elapsed": 7,
     "status": "ok",
     "timestamp": 1663837392178,
     "user": {
      "displayName": "Luca Pusztaházi",
      "userId": "06295912630045743658"
     },
     "user_tz": -120
    },
    "id": "VrrxaHX7b7ZX",
    "outputId": "7e457827-1f7b-4a7c-8282-029a3d20dca3"
   },
   "outputs": [],
   "source": [
    "A + B"
   ]
  },
  {
   "cell_type": "code",
   "execution_count": null,
   "metadata": {
    "colab": {
     "base_uri": "https://localhost:8080/"
    },
    "executionInfo": {
     "elapsed": 406,
     "status": "ok",
     "timestamp": 1663837416662,
     "user": {
      "displayName": "Luca Pusztaházi",
      "userId": "06295912630045743658"
     },
     "user_tz": -120
    },
    "id": "-EAFpZLorw2h",
    "outputId": "74da149a-aff9-4956-82e8-fbddcf001050"
   },
   "outputs": [],
   "source": [
    "A * B #elementwise product"
   ]
  },
  {
   "cell_type": "code",
   "execution_count": null,
   "metadata": {
    "colab": {
     "base_uri": "https://localhost:8080/"
    },
    "executionInfo": {
     "elapsed": 339,
     "status": "ok",
     "timestamp": 1663837444885,
     "user": {
      "displayName": "Luca Pusztaházi",
      "userId": "06295912630045743658"
     },
     "user_tz": -120
    },
    "id": "i22x4LRhr587",
    "outputId": "a91bca75-e047-429d-fc7a-62a51023434f"
   },
   "outputs": [],
   "source": [
    "A @ B #dot product"
   ]
  },
  {
   "cell_type": "code",
   "execution_count": null,
   "metadata": {
    "colab": {
     "base_uri": "https://localhost:8080/"
    },
    "executionInfo": {
     "elapsed": 11,
     "status": "ok",
     "timestamp": 1663837455312,
     "user": {
      "displayName": "Luca Pusztaházi",
      "userId": "06295912630045743658"
     },
     "user_tz": -120
    },
    "id": "DVNvrH1ocK8S",
    "outputId": "51169d98-4c58-4831-ebb2-061a40a06ae5"
   },
   "outputs": [],
   "source": [
    "A.dot(B)"
   ]
  },
  {
   "cell_type": "code",
   "execution_count": null,
   "metadata": {
    "colab": {
     "base_uri": "https://localhost:8080/"
    },
    "executionInfo": {
     "elapsed": 462,
     "status": "ok",
     "timestamp": 1663837479985,
     "user": {
      "displayName": "Luca Pusztaházi",
      "userId": "06295912630045743658"
     },
     "user_tz": -120
    },
    "id": "mSgTbL84r7Vr",
    "outputId": "ead2c95c-5939-458c-b4ea-18bb2d0a84c1"
   },
   "outputs": [],
   "source": [
    "A.shape"
   ]
  },
  {
   "cell_type": "code",
   "execution_count": null,
   "metadata": {},
   "outputs": [],
   "source": []
  },
  {
   "cell_type": "markdown",
   "metadata": {
    "id": "a6l_Wdmwtc5x"
   },
   "source": [
    "### Upcasting"
   ]
  },
  {
   "cell_type": "code",
   "execution_count": null,
   "metadata": {
    "colab": {
     "base_uri": "https://localhost:8080/"
    },
    "executionInfo": {
     "elapsed": 343,
     "status": "ok",
     "timestamp": 1663837562608,
     "user": {
      "displayName": "Luca Pusztaházi",
      "userId": "06295912630045743658"
     },
     "user_tz": -120
    },
    "id": "7MNHQNLdscbi",
    "outputId": "edbfa414-92d7-4cc9-89b9-fd0931d79eeb"
   },
   "outputs": [],
   "source": [
    "array1 = np.array([[1, 2, 3], [4, 5, 6]])\n",
    "print(array1.dtype)\n",
    "\n",
    "array2 = np.array([[7.1, 8.2, 9.1], [10.4, 11.2, 12.3]])\n",
    "print(array2.dtype)"
   ]
  },
  {
   "cell_type": "code",
   "execution_count": null,
   "metadata": {
    "colab": {
     "base_uri": "https://localhost:8080/"
    },
    "executionInfo": {
     "elapsed": 550,
     "status": "ok",
     "timestamp": 1663837588753,
     "user": {
      "displayName": "Luca Pusztaházi",
      "userId": "06295912630045743658"
     },
     "user_tz": -120
    },
    "id": "2ryF75WUtSS-",
    "outputId": "740f4cb2-0c38-4e4f-aab9-e75bc3e41844"
   },
   "outputs": [],
   "source": [
    "array3 = array1 + array2\n",
    "print(array3)\n",
    "print(array3.dtype)"
   ]
  },
  {
   "cell_type": "code",
   "execution_count": null,
   "metadata": {},
   "outputs": [],
   "source": []
  },
  {
   "cell_type": "markdown",
   "metadata": {
    "id": "bZUOJUZhthjQ"
   },
   "source": [
    "### Aggregation functions"
   ]
  },
  {
   "cell_type": "code",
   "execution_count": null,
   "metadata": {
    "colab": {
     "base_uri": "https://localhost:8080/"
    },
    "executionInfo": {
     "elapsed": 387,
     "status": "ok",
     "timestamp": 1663837635452,
     "user": {
      "displayName": "Luca Pusztaházi",
      "userId": "06295912630045743658"
     },
     "user_tz": -120
    },
    "id": "SLrqfCFVtSxS",
    "outputId": "37ecce52-87db-45f6-861e-3be773d08cce"
   },
   "outputs": [],
   "source": [
    "print(array3.sum())\n",
    "print(array3.max())\n",
    "print(array3.min())\n",
    "print(array3.mean())"
   ]
  },
  {
   "cell_type": "code",
   "execution_count": null,
   "metadata": {
    "colab": {
     "base_uri": "https://localhost:8080/"
    },
    "executionInfo": {
     "elapsed": 532,
     "status": "ok",
     "timestamp": 1663837686933,
     "user": {
      "displayName": "Luca Pusztaházi",
      "userId": "06295912630045743658"
     },
     "user_tz": -120
    },
    "id": "4aw-ZB4rt3I5",
    "outputId": "c8234ae5-d01f-42a0-efd0-7d330c13740f"
   },
   "outputs": [],
   "source": [
    "b = np.arange(1,16,1).reshape(3,5)\n",
    "b"
   ]
  },
  {
   "cell_type": "code",
   "execution_count": null,
   "metadata": {
    "colab": {
     "base_uri": "https://localhost:8080/"
    },
    "executionInfo": {
     "elapsed": 564,
     "status": "ok",
     "timestamp": 1663837739667,
     "user": {
      "displayName": "Luca Pusztaházi",
      "userId": "06295912630045743658"
     },
     "user_tz": -120
    },
    "id": "4uxdUDceuGtG",
    "outputId": "95dd81d3-82d4-4785-d26d-3c7cf370e379"
   },
   "outputs": [],
   "source": [
    "b.max(axis=1)"
   ]
  },
  {
   "cell_type": "code",
   "execution_count": null,
   "metadata": {
    "colab": {
     "base_uri": "https://localhost:8080/"
    },
    "executionInfo": {
     "elapsed": 572,
     "status": "ok",
     "timestamp": 1663837759008,
     "user": {
      "displayName": "Luca Pusztaházi",
      "userId": "06295912630045743658"
     },
     "user_tz": -120
    },
    "id": "dBprXDxsuzgh",
    "outputId": "b776f8bc-17b3-4833-dbbf-2e052d5af8bc"
   },
   "outputs": [],
   "source": [
    "b.sum(axis=0)"
   ]
  },
  {
   "cell_type": "code",
   "execution_count": null,
   "metadata": {},
   "outputs": [],
   "source": []
  },
  {
   "cell_type": "markdown",
   "metadata": {
    "id": "uPMHrQ4MwPOw"
   },
   "source": [
    "### Broadcasting"
   ]
  },
  {
   "cell_type": "markdown",
   "metadata": {
    "id": "SjhF3uBUwUsH"
   },
   "source": [
    "https://numpy.org/doc/stable/user/basics.broadcasting.html"
   ]
  },
  {
   "cell_type": "code",
   "execution_count": null,
   "metadata": {
    "id": "Im9WuDUzAyZG"
   },
   "outputs": [],
   "source": []
  }
 ],
 "metadata": {
  "colab": {
   "authorship_tag": "ABX9TyPR3SaKO+tTvctxv/LonN7/",
   "collapsed_sections": [
    "1OhfUZCx5o7i",
    "MEWkQbId7Zal",
    "jho5PGTl8WQH",
    "2jTHCY3c9Mqc",
    "c60shzbN-J4A",
    "WCYxB0PP-jXm",
    "0JEaDnAc-9Ys",
    "o1GjRvyxB2mY",
    "AmdSKehRCmCz",
    "1FHsHgcbC1pX",
    "RPeWrFHADmUS",
    "ZYNIEEMzEVLZ",
    "LNTggPitceGS",
    "zTgAKkUkqh36",
    "yD6aLD1PrbRi",
    "Z5SjvCeIre1D",
    "a6l_Wdmwtc5x",
    "bZUOJUZhthjQ",
    "uPMHrQ4MwPOw"
   ],
   "provenance": []
  },
  "kernelspec": {
   "display_name": "Python 3 (ipykernel)",
   "language": "python",
   "name": "python3"
  },
  "language_info": {
   "codemirror_mode": {
    "name": "ipython",
    "version": 3
   },
   "file_extension": ".py",
   "mimetype": "text/x-python",
   "name": "python",
   "nbconvert_exporter": "python",
   "pygments_lexer": "ipython3",
   "version": "3.9.12"
  }
 },
 "nbformat": 4,
 "nbformat_minor": 1
}
