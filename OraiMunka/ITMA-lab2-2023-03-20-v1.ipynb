{
 "cells": [
  {
   "cell_type": "code",
   "execution_count": null,
   "metadata": {
    "colab": {
     "base_uri": "https://localhost:8080/"
    },
    "executionInfo": {
     "elapsed": 390,
     "status": "ok",
     "timestamp": 1664434808782,
     "user": {
      "displayName": "Luca Pusztaházi",
      "userId": "06295912630045743658"
     },
     "user_tz": -120
    },
    "id": "LK97daILm_a3",
    "outputId": "8ecd7996-a844-4d56-b228-4727eef1323e"
   },
   "outputs": [],
   "source": [
    "# for ciklus és if-else szintaxisa\n",
    "for x in range(5):\n",
    "  if x == 0:\n",
    "    print('nulla')\n",
    "  elif x%2 == 0:\n",
    "    print('páros szám')\n",
    "  else:\n",
    "    print('páratlan szám')"
   ]
  },
  {
   "cell_type": "markdown",
   "metadata": {
    "id": "Wmpk2KQl9AeI"
   },
   "source": [
    "# Pandas"
   ]
  },
  {
   "cell_type": "code",
   "execution_count": null,
   "metadata": {
    "executionInfo": {
     "elapsed": 362,
     "status": "ok",
     "timestamp": 1664434814327,
     "user": {
      "displayName": "Luca Pusztaházi",
      "userId": "06295912630045743658"
     },
     "user_tz": -120
    },
    "id": "Ws46p3I3-Pdz"
   },
   "outputs": [],
   "source": [
    "import numpy as np\n",
    "import math\n",
    "import pandas as pd"
   ]
  },
  {
   "cell_type": "markdown",
   "metadata": {
    "id": "XE2GSqWJIDJs"
   },
   "source": [
    "## Series"
   ]
  },
  {
   "cell_type": "code",
   "execution_count": null,
   "metadata": {
    "colab": {
     "base_uri": "https://localhost:8080/"
    },
    "executionInfo": {
     "elapsed": 6,
     "status": "ok",
     "timestamp": 1664434816714,
     "user": {
      "displayName": "Luca Pusztaházi",
      "userId": "06295912630045743658"
     },
     "user_tz": -120
    },
    "id": "Oc2LsUd17FNx",
    "outputId": "5ba56522-3cbe-43e4-acc7-42342c2cd7a0"
   },
   "outputs": [],
   "source": [
    "students = ['Alice', 'Jack', 'Molly']\n",
    "pd.Series(students)"
   ]
  },
  {
   "cell_type": "code",
   "execution_count": null,
   "metadata": {
    "colab": {
     "base_uri": "https://localhost:8080/"
    },
    "executionInfo": {
     "elapsed": 381,
     "status": "ok",
     "timestamp": 1664434834096,
     "user": {
      "displayName": "Luca Pusztaházi",
      "userId": "06295912630045743658"
     },
     "user_tz": -120
    },
    "id": "16D-HYga-j4z",
    "outputId": "455c6d18-dcef-415e-ff6f-6f18df3d10fb"
   },
   "outputs": [],
   "source": [
    "numbers = [1, 2, 3]\n",
    "pd.Series(numbers)"
   ]
  },
  {
   "cell_type": "code",
   "execution_count": null,
   "metadata": {
    "colab": {
     "base_uri": "https://localhost:8080/"
    },
    "executionInfo": {
     "elapsed": 476,
     "status": "ok",
     "timestamp": 1664434838150,
     "user": {
      "displayName": "Luca Pusztaházi",
      "userId": "06295912630045743658"
     },
     "user_tz": -120
    },
    "id": "kskBLahr-88f",
    "outputId": "5d987809-4317-4048-97fb-ddca82892e0f"
   },
   "outputs": [],
   "source": [
    "students = ['Alice', 'Jack', None]\n",
    "pd.Series(students)"
   ]
  },
  {
   "cell_type": "code",
   "execution_count": null,
   "metadata": {
    "colab": {
     "base_uri": "https://localhost:8080/"
    },
    "executionInfo": {
     "elapsed": 525,
     "status": "ok",
     "timestamp": 1664434840542,
     "user": {
      "displayName": "Luca Pusztaházi",
      "userId": "06295912630045743658"
     },
     "user_tz": -120
    },
    "id": "_yWNvOyA_XrD",
    "outputId": "c99ab28f-3b62-4a83-a66c-f5026639e73e"
   },
   "outputs": [],
   "source": [
    "numbers = [1, 2, None]\n",
    "pd.Series(numbers)"
   ]
  },
  {
   "cell_type": "code",
   "execution_count": null,
   "metadata": {
    "colab": {
     "base_uri": "https://localhost:8080/"
    },
    "executionInfo": {
     "elapsed": 439,
     "status": "ok",
     "timestamp": 1664434850676,
     "user": {
      "displayName": "Luca Pusztaházi",
      "userId": "06295912630045743658"
     },
     "user_tz": -120
    },
    "id": "kp8R41e7_9cQ",
    "outputId": "ccb8e734-a453-4a25-95f9-0e4ee88e1ec2"
   },
   "outputs": [],
   "source": [
    "np.nan == None"
   ]
  },
  {
   "cell_type": "code",
   "execution_count": null,
   "metadata": {
    "colab": {
     "base_uri": "https://localhost:8080/"
    },
    "executionInfo": {
     "elapsed": 8,
     "status": "ok",
     "timestamp": 1664434852951,
     "user": {
      "displayName": "Luca Pusztaházi",
      "userId": "06295912630045743658"
     },
     "user_tz": -120
    },
    "id": "Lj5sq6mM__Tq",
    "outputId": "b8d372cf-8dd3-463e-cbff-2f5b6fcf732c"
   },
   "outputs": [],
   "source": [
    "np.nan == np.nan"
   ]
  },
  {
   "cell_type": "code",
   "execution_count": null,
   "metadata": {
    "colab": {
     "base_uri": "https://localhost:8080/"
    },
    "executionInfo": {
     "elapsed": 352,
     "status": "ok",
     "timestamp": 1664434856669,
     "user": {
      "displayName": "Luca Pusztaházi",
      "userId": "06295912630045743658"
     },
     "user_tz": -120
    },
    "id": "rRQIu1VSADkg",
    "outputId": "97262253-e955-42bb-924b-4d276912f5a5"
   },
   "outputs": [],
   "source": [
    "np.isnan(np.nan)"
   ]
  },
  {
   "cell_type": "code",
   "execution_count": null,
   "metadata": {
    "colab": {
     "base_uri": "https://localhost:8080/"
    },
    "executionInfo": {
     "elapsed": 651,
     "status": "ok",
     "timestamp": 1664434865806,
     "user": {
      "displayName": "Luca Pusztaházi",
      "userId": "06295912630045743658"
     },
     "user_tz": -120
    },
    "id": "5seOQdMCAF0r",
    "outputId": "d2cf7069-9fa0-4574-bf79-15e85888ca5c"
   },
   "outputs": [],
   "source": [
    "students_courses = {'Alice':'Physics', 'Jack':'Chemistry', 'Molly':'English'}\n",
    "s = pd.Series(students_courses)\n",
    "s"
   ]
  },
  {
   "cell_type": "code",
   "execution_count": null,
   "metadata": {
    "colab": {
     "base_uri": "https://localhost:8080/"
    },
    "executionInfo": {
     "elapsed": 406,
     "status": "ok",
     "timestamp": 1664434872808,
     "user": {
      "displayName": "Luca Pusztaházi",
      "userId": "06295912630045743658"
     },
     "user_tz": -120
    },
    "id": "sCq3F_iRDx3T",
    "outputId": "4a3a8c68-8ded-49e8-c244-3bf13f0dcc79"
   },
   "outputs": [],
   "source": [
    "s.index"
   ]
  },
  {
   "cell_type": "code",
   "execution_count": null,
   "metadata": {
    "colab": {
     "base_uri": "https://localhost:8080/"
    },
    "executionInfo": {
     "elapsed": 458,
     "status": "ok",
     "timestamp": 1664434878328,
     "user": {
      "displayName": "Luca Pusztaházi",
      "userId": "06295912630045743658"
     },
     "user_tz": -120
    },
    "id": "K3dRzvrbEBGv",
    "outputId": "263deb7b-bd2c-4c24-e775-9f15d54a9a6d"
   },
   "outputs": [],
   "source": [
    "students_courses = {'Alice':'Physics', 'Jack':'Chemistry', 'Molly':'English'}\n",
    "s = pd.Series(students_courses, index=['Alice', 'Molly', 'Sam'])\n",
    "s"
   ]
  },
  {
   "cell_type": "code",
   "execution_count": null,
   "metadata": {
    "colab": {
     "base_uri": "https://localhost:8080/",
     "height": 35
    },
    "executionInfo": {
     "elapsed": 411,
     "status": "ok",
     "timestamp": 1664434890113,
     "user": {
      "displayName": "Luca Pusztaházi",
      "userId": "06295912630045743658"
     },
     "user_tz": -120
    },
    "id": "J4bQhfjlEzMS",
    "outputId": "e7ea12be-3d68-4e1e-9543-fe36cc4356f5"
   },
   "outputs": [],
   "source": [
    "s[1]\n",
    "#s.iloc[1]"
   ]
  },
  {
   "cell_type": "code",
   "execution_count": null,
   "metadata": {
    "colab": {
     "base_uri": "https://localhost:8080/",
     "height": 35
    },
    "executionInfo": {
     "elapsed": 16,
     "status": "ok",
     "timestamp": 1664434891637,
     "user": {
      "displayName": "Luca Pusztaházi",
      "userId": "06295912630045743658"
     },
     "user_tz": -120
    },
    "id": "iUqKxb8BFDKp",
    "outputId": "02eb0579-1cc0-424c-8c84-9d659bfaeb8c"
   },
   "outputs": [],
   "source": [
    "s['Molly']\n",
    "#s.loc['Molly']"
   ]
  },
  {
   "cell_type": "markdown",
   "metadata": {
    "id": "SdnKCH09IHIA"
   },
   "source": [
    "## Dataframes"
   ]
  },
  {
   "cell_type": "code",
   "execution_count": null,
   "metadata": {
    "executionInfo": {
     "elapsed": 415,
     "status": "ok",
     "timestamp": 1664434902266,
     "user": {
      "displayName": "Luca Pusztaházi",
      "userId": "06295912630045743658"
     },
     "user_tz": -120
    },
    "id": "54HS2Z0UH5F8"
   },
   "outputs": [],
   "source": [
    "record1 = pd.Series({'Name':'Alice', 'Class':'Physics', 'Score':85})\n",
    "record2 = pd.Series({'Name':'Jack', 'Class':'Chemistry', 'Score':82})\n",
    "record3 = pd.Series({'Name':'Helen', 'Class':'Biology', 'Score':90})"
   ]
  },
  {
   "cell_type": "code",
   "execution_count": null,
   "metadata": {
    "colab": {
     "base_uri": "https://localhost:8080/",
     "height": 143
    },
    "executionInfo": {
     "elapsed": 536,
     "status": "ok",
     "timestamp": 1664434904656,
     "user": {
      "displayName": "Luca Pusztaházi",
      "userId": "06295912630045743658"
     },
     "user_tz": -120
    },
    "id": "opRRDWXsJyny",
    "outputId": "4f410f5d-97dc-42d5-f4e9-55c96cb8d64a"
   },
   "outputs": [],
   "source": [
    "df = pd.DataFrame([record1, record2, record3], index=['school1', 'school2', 'school1'])\n",
    "df"
   ]
  },
  {
   "cell_type": "code",
   "execution_count": null,
   "metadata": {
    "colab": {
     "base_uri": "https://localhost:8080/",
     "height": 112
    },
    "executionInfo": {
     "elapsed": 376,
     "status": "ok",
     "timestamp": 1664434919065,
     "user": {
      "displayName": "Luca Pusztaházi",
      "userId": "06295912630045743658"
     },
     "user_tz": -120
    },
    "id": "xaSj12NhJ3Ho",
    "outputId": "2b6d8d23-1629-4c62-89ba-facb0d3e95ac"
   },
   "outputs": [],
   "source": [
    "df.head(2)"
   ]
  },
  {
   "cell_type": "code",
   "execution_count": null,
   "metadata": {
    "colab": {
     "base_uri": "https://localhost:8080/"
    },
    "executionInfo": {
     "elapsed": 5,
     "status": "ok",
     "timestamp": 1664434921974,
     "user": {
      "displayName": "Luca Pusztaházi",
      "userId": "06295912630045743658"
     },
     "user_tz": -120
    },
    "id": "yRwXXiiKKd3l",
    "outputId": "99bd1be8-49c1-4e01-f9b5-025e5509aad4"
   },
   "outputs": [],
   "source": [
    "df.loc['school2']"
   ]
  },
  {
   "cell_type": "code",
   "execution_count": null,
   "metadata": {
    "colab": {
     "base_uri": "https://localhost:8080/",
     "height": 112
    },
    "executionInfo": {
     "elapsed": 417,
     "status": "ok",
     "timestamp": 1664434928011,
     "user": {
      "displayName": "Luca Pusztaházi",
      "userId": "06295912630045743658"
     },
     "user_tz": -120
    },
    "id": "DzZfmd2gKkEH",
    "outputId": "b693b275-199a-410c-fd36-f893af40443c"
   },
   "outputs": [],
   "source": [
    "df.loc['school1']"
   ]
  },
  {
   "cell_type": "code",
   "execution_count": null,
   "metadata": {
    "colab": {
     "base_uri": "https://localhost:8080/"
    },
    "executionInfo": {
     "elapsed": 8,
     "status": "ok",
     "timestamp": 1664434930232,
     "user": {
      "displayName": "Luca Pusztaházi",
      "userId": "06295912630045743658"
     },
     "user_tz": -120
    },
    "id": "ZXrLRKUjK23Q",
    "outputId": "65facf3b-f171-43e9-a163-eb988b1d5c06"
   },
   "outputs": [],
   "source": [
    "print(type(df.loc['school2']))\n",
    "print(type(df.loc['school1']))"
   ]
  },
  {
   "cell_type": "code",
   "execution_count": null,
   "metadata": {
    "colab": {
     "base_uri": "https://localhost:8080/"
    },
    "executionInfo": {
     "elapsed": 8,
     "status": "ok",
     "timestamp": 1664434932646,
     "user": {
      "displayName": "Luca Pusztaházi",
      "userId": "06295912630045743658"
     },
     "user_tz": -120
    },
    "id": "Nd-LVbKbK9Nf",
    "outputId": "e30219d8-f747-4899-c558-b72037e4630c"
   },
   "outputs": [],
   "source": [
    "df.loc['school1', 'Name']"
   ]
  },
  {
   "cell_type": "code",
   "execution_count": null,
   "metadata": {
    "colab": {
     "base_uri": "https://localhost:8080/",
     "height": 143
    },
    "executionInfo": {
     "elapsed": 1104,
     "status": "ok",
     "timestamp": 1664434939280,
     "user": {
      "displayName": "Luca Pusztaházi",
      "userId": "06295912630045743658"
     },
     "user_tz": -120
    },
    "id": "nMylkJEgLKnb",
    "outputId": "d5da83e2-9a32-4d46-b5ee-51980cf9a688"
   },
   "outputs": [],
   "source": [
    "df.T"
   ]
  },
  {
   "cell_type": "code",
   "execution_count": null,
   "metadata": {
    "colab": {
     "base_uri": "https://localhost:8080/"
    },
    "executionInfo": {
     "elapsed": 4,
     "status": "ok",
     "timestamp": 1664434939806,
     "user": {
      "displayName": "Luca Pusztaházi",
      "userId": "06295912630045743658"
     },
     "user_tz": -120
    },
    "id": "Dt4Z15q5LT5Y",
    "outputId": "00f88e1e-c1ed-4c0d-f339-f7a4e26db9b1"
   },
   "outputs": [],
   "source": [
    "df.T.loc['Name']"
   ]
  },
  {
   "cell_type": "code",
   "execution_count": null,
   "metadata": {
    "colab": {
     "base_uri": "https://localhost:8080/",
     "height": 143
    },
    "executionInfo": {
     "elapsed": 24,
     "status": "ok",
     "timestamp": 1664434942345,
     "user": {
      "displayName": "Luca Pusztaházi",
      "userId": "06295912630045743658"
     },
     "user_tz": -120
    },
    "id": "LlhvIoQEgwph",
    "outputId": "06ff4314-9292-4aa8-c99b-f7f0d9de5485"
   },
   "outputs": [],
   "source": [
    "df"
   ]
  },
  {
   "cell_type": "code",
   "execution_count": null,
   "metadata": {
    "colab": {
     "base_uri": "https://localhost:8080/"
    },
    "executionInfo": {
     "elapsed": 9,
     "status": "ok",
     "timestamp": 1664434944177,
     "user": {
      "displayName": "Luca Pusztaházi",
      "userId": "06295912630045743658"
     },
     "user_tz": -120
    },
    "id": "wM5e-QXaLZhc",
    "outputId": "6569683f-d863-4e1a-a859-b53bb54cebbb"
   },
   "outputs": [],
   "source": [
    "df['Name']"
   ]
  },
  {
   "cell_type": "code",
   "execution_count": null,
   "metadata": {
    "colab": {
     "base_uri": "https://localhost:8080/",
     "height": 143
    },
    "executionInfo": {
     "elapsed": 21,
     "status": "ok",
     "timestamp": 1664434946441,
     "user": {
      "displayName": "Luca Pusztaházi",
      "userId": "06295912630045743658"
     },
     "user_tz": -120
    },
    "id": "ZpSYxnoaLe3c",
    "outputId": "f5036581-4be6-47bb-ecaf-488e66ec3f34"
   },
   "outputs": [],
   "source": [
    "df[['Name', 'Score']]"
   ]
  },
  {
   "cell_type": "code",
   "execution_count": null,
   "metadata": {
    "colab": {
     "base_uri": "https://localhost:8080/",
     "height": 143
    },
    "executionInfo": {
     "elapsed": 439,
     "status": "ok",
     "timestamp": 1664434949625,
     "user": {
      "displayName": "Luca Pusztaházi",
      "userId": "06295912630045743658"
     },
     "user_tz": -120
    },
    "id": "eqrEgqp8NU-x",
    "outputId": "6cbc4851-ff9e-4008-d99b-500a5bfb61c5"
   },
   "outputs": [],
   "source": [
    "df['MaxScore'] = 100\n",
    "df"
   ]
  },
  {
   "cell_type": "code",
   "execution_count": null,
   "metadata": {
    "executionInfo": {
     "elapsed": 354,
     "status": "ok",
     "timestamp": 1664366932804,
     "user": {
      "displayName": "Luca Pusztaházi",
      "userId": "06295912630045743658"
     },
     "user_tz": -120
    },
    "id": "u9CxtCTTOAEb"
   },
   "outputs": [],
   "source": []
  },
  {
   "cell_type": "markdown",
   "metadata": {
    "id": "pnPKy1cHSFVR"
   },
   "source": [
    "# Norma, metrika"
   ]
  },
  {
   "cell_type": "markdown",
   "metadata": {
    "id": "FDOhdt6p0S5_"
   },
   "source": [
    "Hölder-norma vagy p-norma: $v = [x_1, x_2, \\dots, x_n]$ és $p\\geq 1$, akkor \n",
    "$$||v||_p = (|x_1|^p + |x_2|^p + \\dots + |x_n|^p)^\\frac{1}{p}$$"
   ]
  },
  {
   "cell_type": "markdown",
   "metadata": {
    "id": "jK1Bs4IB3dah"
   },
   "source": [
    "### Lp norma"
   ]
  },
  {
   "cell_type": "code",
   "execution_count": null,
   "metadata": {
    "colab": {
     "base_uri": "https://localhost:8080/"
    },
    "executionInfo": {
     "elapsed": 528,
     "status": "ok",
     "timestamp": 1664435097684,
     "user": {
      "displayName": "Luca Pusztaházi",
      "userId": "06295912630045743658"
     },
     "user_tz": -120
    },
    "id": "V7hUMsTI2isg",
    "outputId": "3986d2b4-b540-40b1-a722-ff79f173c523"
   },
   "outputs": [],
   "source": [
    "#L1 norma, 3 féle megadással\n",
    "#Sima listával vagy numpy array típussal is működik\n",
    "\n",
    "a = [-1, -2, 3, 4, 5]\n",
    "#a = np.array([-1, -2, 3, 4, 5])\n",
    "\n",
    "np.sum(np.abs(a))\n",
    "#np.sum(list(map(np.abs, a)))\n",
    "#np.sum([np.abs(x) for x in a])"
   ]
  },
  {
   "cell_type": "code",
   "execution_count": null,
   "metadata": {
    "executionInfo": {
     "elapsed": 530,
     "status": "ok",
     "timestamp": 1664435159038,
     "user": {
      "displayName": "Luca Pusztaházi",
      "userId": "06295912630045743658"
     },
     "user_tz": -120
    },
    "id": "CoviTptt24RH"
   },
   "outputs": [],
   "source": [
    "#Függvény megadása\n",
    "def L1_norm(v):\n",
    "  out = np.sum(np.abs(v))\n",
    "  return out"
   ]
  },
  {
   "cell_type": "code",
   "execution_count": null,
   "metadata": {
    "colab": {
     "base_uri": "https://localhost:8080/"
    },
    "executionInfo": {
     "elapsed": 8,
     "status": "ok",
     "timestamp": 1664435160457,
     "user": {
      "displayName": "Luca Pusztaházi",
      "userId": "06295912630045743658"
     },
     "user_tz": -120
    },
    "id": "xdU9gyrN3DaY",
    "outputId": "8b4286ea-5ede-4868-a9bf-cd3b757ecd7c"
   },
   "outputs": [],
   "source": [
    "L1_norm(a)"
   ]
  },
  {
   "cell_type": "code",
   "execution_count": null,
   "metadata": {
    "colab": {
     "base_uri": "https://localhost:8080/"
    },
    "executionInfo": {
     "elapsed": 12,
     "status": "ok",
     "timestamp": 1664435176433,
     "user": {
      "displayName": "Luca Pusztaházi",
      "userId": "06295912630045743658"
     },
     "user_tz": -120
    },
    "id": "qdM7ISJc4oQL",
    "outputId": "950072fe-0ae3-4abc-e0b3-da8922595c87"
   },
   "outputs": [],
   "source": [
    "#Beépített függvénnyel\n",
    "np.linalg.norm(a, 1)"
   ]
  },
  {
   "cell_type": "code",
   "execution_count": null,
   "metadata": {
    "colab": {
     "base_uri": "https://localhost:8080/"
    },
    "executionInfo": {
     "elapsed": 754,
     "status": "ok",
     "timestamp": 1664435179351,
     "user": {
      "displayName": "Luca Pusztaházi",
      "userId": "06295912630045743658"
     },
     "user_tz": -120
    },
    "id": "3mDEGFjb41T-",
    "outputId": "ebfc5862-7d88-430b-f49f-31757943d273"
   },
   "outputs": [],
   "source": [
    "np.linalg.norm(a, 2) "
   ]
  },
  {
   "cell_type": "code",
   "execution_count": null,
   "metadata": {
    "colab": {
     "base_uri": "https://localhost:8080/"
    },
    "executionInfo": {
     "elapsed": 7,
     "status": "ok",
     "timestamp": 1664435180142,
     "user": {
      "displayName": "Luca Pusztaházi",
      "userId": "06295912630045743658"
     },
     "user_tz": -120
    },
    "id": "AUzPqXY3432K",
    "outputId": "7fdd1d27-3a08-4ae6-867f-189eedde6c63"
   },
   "outputs": [],
   "source": [
    "np.linalg.norm(a, 3) "
   ]
  },
  {
   "cell_type": "markdown",
   "metadata": {
    "id": "hs5lyNk348_M"
   },
   "source": [
    "### L∞ norma\n",
    "\n",
    "$$||v||_{\\infty} = max\\{|x_1|, |x_2|, \\dots, |x_n|\\}$$"
   ]
  },
  {
   "cell_type": "code",
   "execution_count": null,
   "metadata": {
    "colab": {
     "base_uri": "https://localhost:8080/"
    },
    "executionInfo": {
     "elapsed": 12,
     "status": "ok",
     "timestamp": 1664366932885,
     "user": {
      "displayName": "Luca Pusztaházi",
      "userId": "06295912630045743658"
     },
     "user_tz": -120
    },
    "id": "-qPPyVgD3z60",
    "outputId": "88069843-1b06-41a6-fb54-8d23da6333c5"
   },
   "outputs": [],
   "source": [
    "np.max(np.abs(a))"
   ]
  },
  {
   "cell_type": "code",
   "execution_count": null,
   "metadata": {
    "colab": {
     "base_uri": "https://localhost:8080/"
    },
    "executionInfo": {
     "elapsed": 418,
     "status": "ok",
     "timestamp": 1664437303856,
     "user": {
      "displayName": "Luca Pusztaházi",
      "userId": "06295912630045743658"
     },
     "user_tz": -120
    },
    "id": "ac1JfAHmML5D",
    "outputId": "9e6fb1a5-29a2-4585-e9db-4c3395f927f3"
   },
   "outputs": [],
   "source": [
    "np.linalg.norm(a, np.inf) "
   ]
  },
  {
   "cell_type": "markdown",
   "metadata": {},
   "source": [
    "## Pár függvény a feladatok előtt:"
   ]
  },
  {
   "cell_type": "code",
   "execution_count": null,
   "metadata": {},
   "outputs": [],
   "source": [
    "a = [-1, -2, 3, 4, 5]\n",
    "\n",
    "np.square(a)"
   ]
  },
  {
   "cell_type": "code",
   "execution_count": null,
   "metadata": {},
   "outputs": [],
   "source": [
    "np.power(a, 2)"
   ]
  },
  {
   "cell_type": "code",
   "execution_count": null,
   "metadata": {},
   "outputs": [],
   "source": [
    "b = [1, 2, 3, 4, 5]\n",
    "\n",
    "np.sqrt(b)"
   ]
  },
  {
   "cell_type": "code",
   "execution_count": null,
   "metadata": {},
   "outputs": [],
   "source": [
    "np.power(b, 1/2)"
   ]
  },
  {
   "cell_type": "code",
   "execution_count": null,
   "metadata": {},
   "outputs": [],
   "source": [
    "np.max(a)"
   ]
  },
  {
   "cell_type": "code",
   "execution_count": null,
   "metadata": {},
   "outputs": [],
   "source": [
    "np.min(a)"
   ]
  },
  {
   "cell_type": "code",
   "execution_count": null,
   "metadata": {},
   "outputs": [],
   "source": [
    "np.sum(a)"
   ]
  },
  {
   "cell_type": "code",
   "execution_count": null,
   "metadata": {},
   "outputs": [],
   "source": [
    "np.abs(a)"
   ]
  },
  {
   "cell_type": "markdown",
   "metadata": {
    "id": "q5L2qzxlWDNZ"
   },
   "source": [
    "# Feladatok"
   ]
  },
  {
   "cell_type": "markdown",
   "metadata": {
    "id": "QVOKodTB3lmJ"
   },
   "source": [
    "1. feladat: L2 norma leprogramozása az np.linalg.norm() függvény használata nélkül, listaértelmezéssel."
   ]
  },
  {
   "cell_type": "code",
   "execution_count": null,
   "metadata": {
    "executionInfo": {
     "elapsed": 344,
     "status": "ok",
     "timestamp": 1664366932812,
     "user": {
      "displayName": "Luca Pusztaházi",
      "userId": "06295912630045743658"
     },
     "user_tz": -120
    },
    "id": "rsYYy83bnP76"
   },
   "outputs": [],
   "source": [
    "#a = [-1, -2, 3, 4, 5]\n",
    "#L2_norm(a)"
   ]
  },
  {
   "cell_type": "markdown",
   "metadata": {
    "id": "X2o1KYmvnQPD"
   },
   "source": [
    "2. feladat: L3 norma leprogramozása az np.linalg.norm() függvény használata nélkül, listaértelmezéssel."
   ]
  },
  {
   "cell_type": "code",
   "execution_count": null,
   "metadata": {
    "executionInfo": {
     "elapsed": 415,
     "status": "ok",
     "timestamp": 1664366932884,
     "user": {
      "displayName": "Luca Pusztaházi",
      "userId": "06295912630045743658"
     },
     "user_tz": -120
    },
    "id": "AdSFZx-3nRxj"
   },
   "outputs": [],
   "source": [
    "#a = [-1, -2, 3, 4, 5]\n",
    "#L3_norm(a)"
   ]
  },
  {
   "cell_type": "markdown",
   "metadata": {
    "id": "LbuRebept7e8"
   },
   "source": [
    "3. feladat: Írjunk olyan függvényt, melynek bemenete két darab pozitív számokból álló vektor, melyek rendre egy derékszögû háromszög két befogójának hosszát tartalmazzák. A kimenet legyen egy olyan vektor, amely rendre az átfogókat tartalmazza."
   ]
  },
  {
   "cell_type": "code",
   "execution_count": null,
   "metadata": {
    "executionInfo": {
     "elapsed": 48,
     "status": "ok",
     "timestamp": 1664366933695,
     "user": {
      "displayName": "Luca Pusztaházi",
      "userId": "06295912630045743658"
     },
     "user_tz": -120
    },
    "id": "ffyzSaKWu1B5"
   },
   "outputs": [],
   "source": [
    "#a = [1, 2, 3]\n",
    "#b = [3, 4, 5]\n",
    "#PitagoraszTetel(a,b)"
   ]
  },
  {
   "cell_type": "markdown",
   "metadata": {
    "id": "RNWhsyf5xrgZ"
   },
   "source": [
    "4. feladat: Írjunk olyan függvényt, amelynek bemenete egy vektor, kimenete pedig a legnagyobb és a legkisebb elemének különbsége."
   ]
  },
  {
   "cell_type": "code",
   "execution_count": null,
   "metadata": {
    "executionInfo": {
     "elapsed": 40,
     "status": "ok",
     "timestamp": 1664366933696,
     "user": {
      "displayName": "Luca Pusztaházi",
      "userId": "06295912630045743658"
     },
     "user_tz": -120
    },
    "id": "Yskf4NYDyFZn"
   },
   "outputs": [],
   "source": [
    "#a = [-1, -2, 3, 4, 5]\n",
    "#terjedelem(a)"
   ]
  },
  {
   "cell_type": "markdown",
   "metadata": {
    "id": "AHkyXeZfyjqf"
   },
   "source": [
    "5. feladat: Írjunk olyan függvényt, amelynek bemenete egy vektor, kimenete pedig a páratlan indexű helyen lévő számok közül a legnagyobb abszolútértékű."
   ]
  },
  {
   "cell_type": "code",
   "execution_count": null,
   "metadata": {
    "executionInfo": {
     "elapsed": 8,
     "status": "ok",
     "timestamp": 1664437474010,
     "user": {
      "displayName": "Luca Pusztaházi",
      "userId": "06295912630045743658"
     },
     "user_tz": -120
    },
    "id": "HmDvlAfGzmFb"
   },
   "outputs": [],
   "source": [
    "#a = [-1, -2, 3, 4, 5]\n",
    "#maxparatlan(a)"
   ]
  },
  {
   "cell_type": "markdown",
   "metadata": {
    "id": "W90kerLl57lP"
   },
   "source": [
    "### Mean Absolute Error (MAE)\n",
    "\n",
    "$$\\frac{\\sum_{i=1}^{n} |x_i - \\hat{x}_i|}{n}$$"
   ]
  },
  {
   "cell_type": "code",
   "execution_count": null,
   "metadata": {
    "colab": {
     "base_uri": "https://localhost:8080/"
    },
    "executionInfo": {
     "elapsed": 1205,
     "status": "ok",
     "timestamp": 1664435578151,
     "user": {
      "displayName": "Luca Pusztaházi",
      "userId": "06295912630045743658"
     },
     "user_tz": -120
    },
    "id": "j7snY4lfEMwi",
    "outputId": "bc98a8f9-a41e-4665-8b58-67b029d999c8"
   },
   "outputs": [],
   "source": [
    "from sklearn.metrics import mean_absolute_error\n",
    "y_true = [3, -0.5, 2, 7]\n",
    "y_pred = [2.5, 0.0, 2, 8]\n",
    "mean_absolute_error(y_true, y_pred)"
   ]
  },
  {
   "cell_type": "markdown",
   "metadata": {
    "id": "E75f4GG8Djs8"
   },
   "source": [
    "### Root Mean Squared Error (RMSE)\n",
    "\n",
    "$$\\left(\\frac{\\sum_{i=1}^{n} (x_i - \\hat{x}_i)^2}{n}\\right)^\\frac{1}{2}$$"
   ]
  },
  {
   "cell_type": "code",
   "execution_count": null,
   "metadata": {
    "colab": {
     "base_uri": "https://localhost:8080/"
    },
    "executionInfo": {
     "elapsed": 441,
     "status": "ok",
     "timestamp": 1664435580227,
     "user": {
      "displayName": "Luca Pusztaházi",
      "userId": "06295912630045743658"
     },
     "user_tz": -120
    },
    "id": "iYkFStoJENVm",
    "outputId": "c26bd6ec-f6b5-4b5c-8701-d87589264879"
   },
   "outputs": [],
   "source": [
    "from sklearn.metrics import mean_squared_error\n",
    "rmse = mean_squared_error(y_true, y_pred, squared=False)\n",
    "print(rmse)"
   ]
  },
  {
   "cell_type": "markdown",
   "metadata": {
    "id": "4ew0H9S3m2pU"
   },
   "source": [
    "A házi feladatokat Moodle-ben találjátok meg az óra után (feladatként). A következő labor elejéig kérem feltölteni a függvényekkel kibővített notebookot.\n"
   ]
  },
  {
   "cell_type": "code",
   "execution_count": null,
   "metadata": {
    "executionInfo": {
     "elapsed": 28,
     "status": "ok",
     "timestamp": 1664366933698,
     "user": {
      "displayName": "Luca Pusztaházi",
      "userId": "06295912630045743658"
     },
     "user_tz": -120
    },
    "id": "DKL5xZb5WI0h"
   },
   "outputs": [],
   "source": []
  }
 ],
 "metadata": {
  "colab": {
   "authorship_tag": "ABX9TyO3phoIPj0eMh2IVGaY0ubL",
   "collapsed_sections": [],
   "provenance": []
  },
  "kernelspec": {
   "display_name": "Python 3 (ipykernel)",
   "language": "python",
   "name": "python3"
  },
  "language_info": {
   "codemirror_mode": {
    "name": "ipython",
    "version": 3
   },
   "file_extension": ".py",
   "mimetype": "text/x-python",
   "name": "python",
   "nbconvert_exporter": "python",
   "pygments_lexer": "ipython3",
   "version": "3.9.12"
  }
 },
 "nbformat": 4,
 "nbformat_minor": 1
}
